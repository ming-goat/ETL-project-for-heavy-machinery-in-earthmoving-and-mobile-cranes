{
 "cells": [
  {
   "cell_type": "markdown",
   "id": "ff962e13-db9e-49d8-9ed1-ffe05e336734",
   "metadata": {},
   "source": [
    "**Author:** _Xu Ming_\n",
    "\n",
    "**Last update:** _2024.04.22_"
   ]
  },
  {
   "cell_type": "code",
   "execution_count": 1,
   "id": "ecfc3f22-e5d9-4f4f-b2f8-d5a61cd2972e",
   "metadata": {},
   "outputs": [],
   "source": [
    "#导入所需的包\n",
    "import pandas as pd\n",
    "import numpy as np\n",
    "import warnings\n",
    "warnings.filterwarnings('ignore')\n",
    "from data_processing_program_20240419 import deal_special_brand, pre_processing, data_preperation, matching_program, search_regex, search_capacity, mark_unknown_model_with_exsisted_lifting_capacity, mark_outliers, convert_usd_to_cny, update_regex_df, check_col_names, define_load_interval, define_excavator_load_type_interval, check_col_names, matching_program_individual\n",
    "pd.options.display.float_format = '{:.1f}'.format\n",
    "import re"
   ]
  },
  {
   "cell_type": "markdown",
   "id": "03127cab-9c5e-4630-9a93-3cbcd5699276",
   "metadata": {},
   "source": [
    "# 数据预处理"
   ]
  },
  {
   "cell_type": "code",
   "execution_count": 2,
   "id": "7fc72b36-e4c1-4ba0-9d95-eeea64beec9b",
   "metadata": {},
   "outputs": [],
   "source": [
    "# 读取dataframe，把文件路径复制到下面代码中\n",
    "df = pd.read_excel('/Users/mingxu/Traymann/ZOOMLION/统计分析报告/8_印度尼西亚/土方/挖掘机/数据处理/842952印尼进口-202401-202403.xls', sheet_name=\"Sheet1\")"
   ]
  },
  {
   "cell_type": "markdown",
   "id": "13350d27-5857-4382-a07b-4437f228a751",
   "metadata": {},
   "source": [
    "请确保 **'日期', '产品描述', '供应商', '美元金额', '重量', '数量', '单位'** 等字段在表格的表头里"
   ]
  },
  {
   "cell_type": "code",
   "execution_count": 5,
   "id": "83465aa8-ccd8-4ea0-b8ed-c470e43ad6a3",
   "metadata": {},
   "outputs": [],
   "source": [
    "df.columns = ['月度', '海关编码', '产品描述', '编码描述', '品牌', '进口商', '供应商', '原产国', '原产国所在州',\n",
    "       '数量', '单位', '金额美元', '美元单价', '合同金额', '合同单价', '日期', '关单号', '进出口',\n",
    "       '印尼目的港', '国外装货港', '进口商地址', '出口商地址', '币种', '金额印尼盾', '单价印尼盾', '美元重量计单价',\n",
    "       '重量', '公吨']"
   ]
  },
  {
   "cell_type": "markdown",
   "id": "063a4080-f7c7-4f8b-b47c-3dd6213684f6",
   "metadata": {},
   "source": [
    "把月度列转换成**日期格式**"
   ]
  },
  {
   "cell_type": "code",
   "execution_count": 10,
   "id": "9a08ee64-1df0-4c57-b0ca-3b0d7601d19e",
   "metadata": {},
   "outputs": [],
   "source": [
    "df['日期'] = pd.to_datetime(df['日期'])"
   ]
  },
  {
   "cell_type": "code",
   "execution_count": 18,
   "id": "6a87147d-f8c5-4e58-8e40-b07ed53bddaf",
   "metadata": {},
   "outputs": [],
   "source": [
    "df = df[['月度', '海关编码', '产品描述', '进口商', '供应商', '原产国', '原产国所在州',\n",
    "       '数量', '单位', '金额美元', '美元单价', '合同金额', '合同单价', '日期', '关单号', '进出口',\n",
    "       '印尼目的港', '国外装货港', '进口商地址', '出口商地址', '币种', '金额印尼盾', '单价印尼盾',\n",
    "       '重量', '公吨']]"
   ]
  },
  {
   "cell_type": "markdown",
   "id": "f05d79a9-aa6b-462e-b9e4-2c598976e85b",
   "metadata": {},
   "source": [
    "检查单位，确保单位统一。对于不统一的单位要单独检查并统一，例如：表格中存在unit和set"
   ]
  },
  {
   "cell_type": "code",
   "execution_count": 11,
   "id": "a8335c93-2cb5-4927-9255-02dcbe961c45",
   "metadata": {},
   "outputs": [
    {
     "data": {
      "text/plain": [
       "Number of international units    1107\n",
       "Set                                97\n",
       "Piece                              14\n",
       "pack                                1\n",
       "Name: 单位, dtype: int64"
      ]
     },
     "execution_count": 11,
     "metadata": {},
     "output_type": "execute_result"
    }
   ],
   "source": [
    "df['单位'].value_counts()"
   ]
  },
  {
   "cell_type": "code",
   "execution_count": null,
   "id": "09d27358-b7b9-4418-8f7b-61e8f92ff7f0",
   "metadata": {},
   "outputs": [
    {
     "data": {
      "text/plain": [
       "1     86\n",
       "2      4\n",
       "26     1\n",
       "4      1\n",
       "21     1\n",
       "6      1\n",
       "3      1\n",
       "20     1\n",
       "12     1\n",
       "Name: 数量, dtype: int64"
      ]
     },
     "execution_count": 22,
     "metadata": {},
     "output_type": "execute_result"
    }
   ],
   "source": [
    "df.loc[df['单位']=='Set','数量'].value_counts()"
   ]
  },
  {
   "cell_type": "code",
   "execution_count": 31,
   "id": "54418239-5cde-4efa-990f-78f7f46ae76b",
   "metadata": {},
   "outputs": [
    {
     "data": {
      "text/html": [
       "<div>\n",
       "<style scoped>\n",
       "    .dataframe tbody tr th:only-of-type {\n",
       "        vertical-align: middle;\n",
       "    }\n",
       "\n",
       "    .dataframe tbody tr th {\n",
       "        vertical-align: top;\n",
       "    }\n",
       "\n",
       "    .dataframe thead th {\n",
       "        text-align: right;\n",
       "    }\n",
       "</style>\n",
       "<table border=\"1\" class=\"dataframe\">\n",
       "  <thead>\n",
       "    <tr style=\"text-align: right;\">\n",
       "      <th></th>\n",
       "      <th>产品描述</th>\n",
       "      <th>数量</th>\n",
       "      <th>美元单价</th>\n",
       "      <th>金额美元</th>\n",
       "      <th>重量</th>\n",
       "      <th>供应商</th>\n",
       "    </tr>\n",
       "  </thead>\n",
       "  <tbody>\n",
       "    <tr>\n",
       "      <th>488</th>\n",
       "      <td>EXCAVATOR</td>\n",
       "      <td>26</td>\n",
       "      <td>117886.8</td>\n",
       "      <td>3065058.0</td>\n",
       "      <td>998894.0</td>\n",
       "      <td>ZHENSHI HOLDING GROUP CO LTD</td>\n",
       "    </tr>\n",
       "    <tr>\n",
       "      <th>604</th>\n",
       "      <td>EXCAVATOR</td>\n",
       "      <td>21</td>\n",
       "      <td>81494.2</td>\n",
       "      <td>1711379.0</td>\n",
       "      <td>460950.0</td>\n",
       "      <td>ZHENSHI HOLDING GROUP CO LTD</td>\n",
       "    </tr>\n",
       "    <tr>\n",
       "      <th>609</th>\n",
       "      <td>COMPLETE SET EXCAVATOR</td>\n",
       "      <td>6</td>\n",
       "      <td>16294.9</td>\n",
       "      <td>97769.3</td>\n",
       "      <td>0.0</td>\n",
       "      <td>SINOAUTO INTERNATIONAL TRADE (SHANDONG)</td>\n",
       "    </tr>\n",
       "    <tr>\n",
       "      <th>720</th>\n",
       "      <td>EXCAVATOR</td>\n",
       "      <td>20</td>\n",
       "      <td>58675.4</td>\n",
       "      <td>1173508.0</td>\n",
       "      <td>336800.0</td>\n",
       "      <td>ZHENSHI HOLDING GROUP CO LTD</td>\n",
       "    </tr>\n",
       "    <tr>\n",
       "      <th>890</th>\n",
       "      <td>EXCAVATOR</td>\n",
       "      <td>12</td>\n",
       "      <td>15416.4</td>\n",
       "      <td>184997.3</td>\n",
       "      <td>NaN</td>\n",
       "      <td>SINOAUTO INTERNATIONAL TRADE (SHANDONG)</td>\n",
       "    </tr>\n",
       "  </tbody>\n",
       "</table>\n",
       "</div>"
      ],
      "text/plain": [
       "                       产品描述  数量     美元单价      金额美元       重量  \\\n",
       "488              EXCAVATOR   26 117886.8 3065058.0 998894.0   \n",
       "604               EXCAVATOR  21  81494.2 1711379.0 460950.0   \n",
       "609  COMPLETE SET EXCAVATOR   6  16294.9   97769.3      0.0   \n",
       "720              EXCAVATOR   20  58675.4 1173508.0 336800.0   \n",
       "890               EXCAVATOR  12  15416.4  184997.3      NaN   \n",
       "\n",
       "                                         供应商  \n",
       "488             ZHENSHI HOLDING GROUP CO LTD  \n",
       "604             ZHENSHI HOLDING GROUP CO LTD  \n",
       "609  SINOAUTO INTERNATIONAL TRADE (SHANDONG)  \n",
       "720             ZHENSHI HOLDING GROUP CO LTD  \n",
       "890  SINOAUTO INTERNATIONAL TRADE (SHANDONG)  "
      ]
     },
     "execution_count": 31,
     "metadata": {},
     "output_type": "execute_result"
    }
   ],
   "source": [
    "df.loc[(df['单位']=='Set')&(df['数量']>5),['产品描述','数量','美元单价','金额美元','重量','供应商']]"
   ]
  },
  {
   "cell_type": "code",
   "execution_count": 36,
   "id": "3c088201-53a7-4e55-a8c4-8c87353acd0f",
   "metadata": {},
   "outputs": [],
   "source": [
    "df.loc[df['单位']=='Set','单位']='UNT'"
   ]
  },
  {
   "cell_type": "code",
   "execution_count": 38,
   "id": "8b72e64e-d98e-452e-b1ce-747be900fde0",
   "metadata": {},
   "outputs": [
    {
     "data": {
      "text/plain": [
       "1     7\n",
       "2     2\n",
       "4     2\n",
       "3     1\n",
       "5     1\n",
       "10    1\n",
       "Name: 数量, dtype: int64"
      ]
     },
     "execution_count": 38,
     "metadata": {},
     "output_type": "execute_result"
    }
   ],
   "source": [
    "df.loc[df['单位']=='Piece','数量'].value_counts()"
   ]
  },
  {
   "cell_type": "code",
   "execution_count": 39,
   "id": "6203c340-3916-4a79-8ef6-07eaba8305fe",
   "metadata": {},
   "outputs": [
    {
     "data": {
      "text/html": [
       "<div>\n",
       "<style scoped>\n",
       "    .dataframe tbody tr th:only-of-type {\n",
       "        vertical-align: middle;\n",
       "    }\n",
       "\n",
       "    .dataframe tbody tr th {\n",
       "        vertical-align: top;\n",
       "    }\n",
       "\n",
       "    .dataframe thead th {\n",
       "        text-align: right;\n",
       "    }\n",
       "</style>\n",
       "<table border=\"1\" class=\"dataframe\">\n",
       "  <thead>\n",
       "    <tr style=\"text-align: right;\">\n",
       "      <th></th>\n",
       "      <th>产品描述</th>\n",
       "      <th>数量</th>\n",
       "      <th>美元单价</th>\n",
       "      <th>金额美元</th>\n",
       "      <th>重量</th>\n",
       "      <th>供应商</th>\n",
       "    </tr>\n",
       "  </thead>\n",
       "  <tbody>\n",
       "    <tr>\n",
       "      <th>540</th>\n",
       "      <td>CRAWLER EXCAVATOR HW60</td>\n",
       "      <td>3</td>\n",
       "      <td>18830.0</td>\n",
       "      <td>56490.0</td>\n",
       "      <td>17430.0</td>\n",
       "      <td>JINING FANGZE MACHINERY CO LTD</td>\n",
       "    </tr>\n",
       "    <tr>\n",
       "      <th>545</th>\n",
       "      <td>CRAWLER EXCAVATOR HW35</td>\n",
       "      <td>4</td>\n",
       "      <td>16700.0</td>\n",
       "      <td>66800.0</td>\n",
       "      <td>10600.0</td>\n",
       "      <td>JINING FANGZE MACHINERY CO LTD</td>\n",
       "    </tr>\n",
       "    <tr>\n",
       "      <th>689</th>\n",
       "      <td>CRAWLER EXCAVATOR HW25</td>\n",
       "      <td>5</td>\n",
       "      <td>9300.0</td>\n",
       "      <td>46500.0</td>\n",
       "      <td>10449.0</td>\n",
       "      <td>JINING FANGZE MACHINERY CO LTD</td>\n",
       "    </tr>\n",
       "    <tr>\n",
       "      <th>715</th>\n",
       "      <td>CRAWLER EXCAVATOR HW10</td>\n",
       "      <td>10</td>\n",
       "      <td>3500.0</td>\n",
       "      <td>35000.0</td>\n",
       "      <td>8726.0</td>\n",
       "      <td>JINING FANGZE MACHINERY CO LTD</td>\n",
       "    </tr>\n",
       "    <tr>\n",
       "      <th>716</th>\n",
       "      <td>CRAWLER EXCAVATOR HW17</td>\n",
       "      <td>4</td>\n",
       "      <td>6200.0</td>\n",
       "      <td>24800.0</td>\n",
       "      <td>4524.0</td>\n",
       "      <td>JINING FANGZE MACHINERY CO LTD</td>\n",
       "    </tr>\n",
       "  </tbody>\n",
       "</table>\n",
       "</div>"
      ],
      "text/plain": [
       "                       产品描述  数量    美元单价    金额美元      重量  \\\n",
       "540  CRAWLER EXCAVATOR HW60   3 18830.0 56490.0 17430.0   \n",
       "545  CRAWLER EXCAVATOR HW35   4 16700.0 66800.0 10600.0   \n",
       "689  CRAWLER EXCAVATOR HW25   5  9300.0 46500.0 10449.0   \n",
       "715  CRAWLER EXCAVATOR HW10  10  3500.0 35000.0  8726.0   \n",
       "716  CRAWLER EXCAVATOR HW17   4  6200.0 24800.0  4524.0   \n",
       "\n",
       "                                供应商  \n",
       "540  JINING FANGZE MACHINERY CO LTD  \n",
       "545  JINING FANGZE MACHINERY CO LTD  \n",
       "689  JINING FANGZE MACHINERY CO LTD  \n",
       "715  JINING FANGZE MACHINERY CO LTD  \n",
       "716  JINING FANGZE MACHINERY CO LTD  "
      ]
     },
     "execution_count": 39,
     "metadata": {},
     "output_type": "execute_result"
    }
   ],
   "source": [
    "df.loc[(df['单位']=='Piece')&(df['数量']>2),['产品描述','数量','美元单价','金额美元','重量','供应商']]"
   ]
  },
  {
   "cell_type": "code",
   "execution_count": 40,
   "id": "fd1f6352-d8c3-417a-872b-c4b59700da06",
   "metadata": {},
   "outputs": [],
   "source": [
    "df.loc[df['单位']=='Piece','单位']='UNT'"
   ]
  },
  {
   "cell_type": "code",
   "execution_count": 41,
   "id": "9b7b51fa-2868-425a-b592-3f54213a2400",
   "metadata": {},
   "outputs": [
    {
     "data": {
      "text/plain": [
       "4    1\n",
       "Name: 数量, dtype: int64"
      ]
     },
     "execution_count": 41,
     "metadata": {},
     "output_type": "execute_result"
    }
   ],
   "source": [
    "df.loc[df['单位']=='pack','数量'].value_counts()"
   ]
  },
  {
   "cell_type": "code",
   "execution_count": 42,
   "id": "3f4721a7-b4f7-4d83-aeae-098ecb4dcaa6",
   "metadata": {},
   "outputs": [
    {
     "data": {
      "text/html": [
       "<div>\n",
       "<style scoped>\n",
       "    .dataframe tbody tr th:only-of-type {\n",
       "        vertical-align: middle;\n",
       "    }\n",
       "\n",
       "    .dataframe tbody tr th {\n",
       "        vertical-align: top;\n",
       "    }\n",
       "\n",
       "    .dataframe thead th {\n",
       "        text-align: right;\n",
       "    }\n",
       "</style>\n",
       "<table border=\"1\" class=\"dataframe\">\n",
       "  <thead>\n",
       "    <tr style=\"text-align: right;\">\n",
       "      <th></th>\n",
       "      <th>产品描述</th>\n",
       "      <th>数量</th>\n",
       "      <th>美元单价</th>\n",
       "      <th>金额美元</th>\n",
       "      <th>重量</th>\n",
       "      <th>供应商</th>\n",
       "    </tr>\n",
       "  </thead>\n",
       "  <tbody>\n",
       "    <tr>\n",
       "      <th>502</th>\n",
       "      <td>1 UNIT OF ERE60 CRAWLER EXCAVATOR COMPLETE WIT...</td>\n",
       "      <td>4</td>\n",
       "      <td>6309.3</td>\n",
       "      <td>25237.3</td>\n",
       "      <td>0.0</td>\n",
       "      <td>QINGDAO EVERUN MACHINERY CO LTD</td>\n",
       "    </tr>\n",
       "  </tbody>\n",
       "</table>\n",
       "</div>"
      ],
      "text/plain": [
       "                                                  产品描述  数量   美元单价    金额美元  重量  \\\n",
       "502  1 UNIT OF ERE60 CRAWLER EXCAVATOR COMPLETE WIT...   4 6309.3 25237.3 0.0   \n",
       "\n",
       "                                 供应商  \n",
       "502  QINGDAO EVERUN MACHINERY CO LTD  "
      ]
     },
     "execution_count": 42,
     "metadata": {},
     "output_type": "execute_result"
    }
   ],
   "source": [
    "df.loc[(df['单位']=='pack'),['产品描述','数量','美元单价','金额美元','重量','供应商']]"
   ]
  },
  {
   "cell_type": "code",
   "execution_count": 44,
   "id": "50c26192-5c4a-44b6-805a-94cf305bd4ce",
   "metadata": {},
   "outputs": [],
   "source": [
    "df.loc[502,['数量','单位']] = [1,'UNT']"
   ]
  },
  {
   "cell_type": "code",
   "execution_count": 46,
   "id": "62bb6ebd-f786-449c-b336-c0b8bb310998",
   "metadata": {},
   "outputs": [],
   "source": [
    "df['单位'] = 'UNT'"
   ]
  },
  {
   "cell_type": "markdown",
   "id": "de100650-e715-4693-a039-98fc127928bf",
   "metadata": {},
   "source": [
    "计算条目单价和净重（以吨为单位）\n",
    "\n",
    "$$unit\\ price = \\frac{amount}{quantity}$$\n",
    "\n",
    "$$weight\\ (ton) = \\frac{weight\\ (kg)}{quantity \\times 1000}$$"
   ]
  },
  {
   "cell_type": "code",
   "execution_count": 50,
   "id": "e7a0b637-5b0e-45f9-8d43-c9d69af5bb70",
   "metadata": {},
   "outputs": [],
   "source": [
    "df.columns = ['月度', '海关编码', '产品描述', '进口商', '供应商', '原产国', '原产国所在州', '数量', '单位', '美元金额',\n",
    "       '美元单价', '合同金额', '合同单价', '日期', '关单号', '进出口', '印尼目的港', '国外装货港', '进口商地址',\n",
    "       '出口商地址', '币种', '金额印尼盾', '单价印尼盾', '重量', '公吨']"
   ]
  },
  {
   "cell_type": "code",
   "execution_count": 51,
   "id": "3a7eeb11-8b5f-421c-adb9-fb5555d1447f",
   "metadata": {},
   "outputs": [],
   "source": [
    "# 将数量和重量转换为数字格式便于计算\n",
    "df['数量'] = pd.to_numeric(df['数量'], errors='coerce')\n",
    "df['重量'] = pd.to_numeric(df['重量'], errors='coerce')\n",
    "\n",
    "# 计算单价和单位数量吨净重\n",
    "df['美元单价'] = df['美元金额']/df['数量']\n",
    "df['单位数量吨净重'] = df['重量']/df['数量']/1000"
   ]
  },
  {
   "cell_type": "markdown",
   "id": "e8d8b56c-b167-4678-896d-549a752bf640",
   "metadata": {},
   "source": [
    "**根据实际情况需要做相应调整，此份数据有很多微挖和旧机器，此次不做删除**\n",
    "* 剔除总金额在10000美金以下的条目\n",
    "* 删除单价在10000美金以下的条目\n",
    "* 删除重量在5吨以下的条目"
   ]
  },
  {
   "cell_type": "code",
   "execution_count": 65,
   "id": "ba5e76fe-dcef-4e92-909c-1b343c68fad1",
   "metadata": {},
   "outputs": [
    {
     "data": {
      "text/plain": [
       "938      1650.0\n",
       "991      1680.0\n",
       "419      1680.0\n",
       "772      1680.0\n",
       "511      1680.0\n",
       "         ...   \n",
       "692   2020497.7\n",
       "932   2028211.4\n",
       "196   3025420.0\n",
       "200   3025420.0\n",
       "659   3025421.0\n",
       "Name: 美元单价, Length: 1219, dtype: float64"
      ]
     },
     "execution_count": 65,
     "metadata": {},
     "output_type": "execute_result"
    }
   ],
   "source": [
    "df['美元单价'].sort_values(ascending=True)"
   ]
  },
  {
   "cell_type": "code",
   "execution_count": null,
   "id": "c4e8916b-15f7-406f-9240-8cf28245980b",
   "metadata": {},
   "outputs": [
    {
     "data": {
      "text/plain": [
       "产品描述                                                                             美元单价  \n",
       "USED EXCAVATOR WITH ACCESSORIES                                                  2610.0    11\n",
       "USED EXCAVATOR MACHINE AND PARTS WITH ACCESSORIES                                7000.0     5\n",
       "USED EXCAVATOR WITH ACCESSORIES                                                  2700.0     4\n",
       "USED EXCAVATOR C/W PARTS AND ACCESSORIES                                         1990.0     3\n",
       "USED EXCAVATOR WITH ACCESSORIES                                                  2110.0     3\n",
       "                                                                                           ..\n",
       "USED EXCAVATOR AND PARTS S/N : HHEAYH00A00111659 HITACHI ZAXIS ZX70 YEAR 2020    2700.0     1\n",
       "USED EXCAVATOR AND PARTS S/N : HHEAYE00J00105166 HITACHI ZAXIS ZX60 YEAR 2017    2000.0     1\n",
       "USED EXCAVATOR AND PARTS S/N : HHEAYE00C00103413 HITACHI ZAXIS ZX60 YEAR 2016    2200.0     1\n",
       "USED EXCAVATOR AND PARTS S/N : HCM1CG00U00042508 HITACHI ZAXIS ZX75US YEAR 2017  2200.0     1\n",
       "USED KOMATSU EXCAVATOR, SERIAL NO:13331                                          4853.7     1\n",
       "Length: 410, dtype: int64"
      ]
     },
     "execution_count": 70,
     "metadata": {},
     "output_type": "execute_result"
    }
   ],
   "source": [
    "df.loc[df['美元单价']<10000,['产品描述','美元单价']].value_counts()"
   ]
  },
  {
   "cell_type": "code",
   "execution_count": null,
   "id": "44552ab5-a15e-4ad0-b172-1f2cde947abe",
   "metadata": {},
   "outputs": [],
   "source": [
    "# # 先剔除总金额在10000美金以下的条目\n",
    "# df = df[~(df['美元金额']<10000)]\n",
    "\n",
    "# # 删除单价在10000美金以下的条目\n",
    "# df = df[df['美元单价']>=10000]\n",
    "# df = df.reset_index(drop=True)\n",
    "\n",
    "# # 删除重量在5吨以下的条目\n",
    "# df = df[df['单位数量吨净重']>=5]"
   ]
  },
  {
   "cell_type": "code",
   "execution_count": 71,
   "id": "6d02391f-76f7-4d29-887e-2eba4b4e1cac",
   "metadata": {},
   "outputs": [],
   "source": [
    "# 加载品牌型号对照表\n",
    "df_ref = pd.read_excel('/Users/mingxu/Traymann/ZOOMLION/统计分析报告/8_印度尼西亚/土方/挖掘机/数据处理/数据对照表/型号对照/20240115_土方对照表_含吨位和马力.xlsx', sheet_name=\"对照表\")"
   ]
  },
  {
   "cell_type": "markdown",
   "id": "0aa771f2-8ae2-46c9-ac5e-3725379f621a",
   "metadata": {},
   "source": [
    "**data_preperation(df, df_ref)定义**\n",
    "\n",
    "* 输入参数\n",
    "    * 原始数据表\n",
    "    * 数据对照表\n",
    "* 输出\n",
    "    * 新建**产品描述**副本以免影响原始数据；\n",
    "    * 去除描述中存在的特殊字符及空格"
   ]
  },
  {
   "cell_type": "code",
   "execution_count": 72,
   "id": "5cf7a735-bef3-4e18-8a8a-769d80aefee4",
   "metadata": {},
   "outputs": [],
   "source": [
    "# 数据预处理：新建产品描述副本以免影响原始数据，去除描述中存在的特殊字符\n",
    "data_preperation(df, df_ref)"
   ]
  },
  {
   "cell_type": "markdown",
   "id": "0d1fe5dd-890a-477f-b3d9-ab831feb1e4c",
   "metadata": {
    "tags": []
   },
   "source": [
    "# 对照表匹配\n",
    "\n",
    "目的：将对照表里存在的设备信息匹配到目前正在处理的数据中\n",
    "\n",
    "**matching_program()定义:**\n",
    "* 输入参数（依次）：原始数据表，对照表，文件类型。其中文件类型可填写 'crane' 或 'excavator'\n",
    "* 输出：匹配后的表格；报错的行号（若有）\n",
    "\n",
    "**运行机制及标准：**\n",
    "\n",
    "**1. 将数据对照表里存在的信息对应关系匹配到原始数据里**\n",
    "* 对照表里的品牌是否存在于产品描述里 -> 存在标记品牌；备注：描述中存在品牌；存在多个匹配品牌时，取第一个品牌\n",
    "* 对照表里的品牌是否存在于供应商描述里 -> 存在标记品牌；备注：供应商存在品牌；存在多个匹配品牌时，取第一个品牌\n",
    "* 存在品牌的条目 -> 对照表筛选该品牌 -> 标记匹配的型号；型号唯一时；备注：完美匹配\n",
    "* 存在品牌的条目 -> 对照表筛选该品牌 -> 标记匹配的型号；有多个型号匹配时，取最长的型号；备注：多个型号匹配，取最长的型号\n",
    "* 没有匹配的品牌 -> 将在下一个步骤通过通用表达式对条目进行搜索\n",
    "* 什么都没有的时候 -> 备注：无品牌型号匹配\n",
    "\n",
    "**2. 删除包含不相关关键词的条目**\n",
    "\n",
    "    目前统计不相关关键词含如下：\n",
    "\n",
    "    ['CARRIER', 'TELESCOPLADER', 'HARBOUR', 'OPEN SHEET', 'STACK', 'BOAT', 'BACKHOE', 'SKID', 'ROLLER', 'BENZ', 'TELEHANDLER', 'LOADER', 'FORK', 'PAVER', 'STACKER', 'MATERIAL HANDLER', 'BRIDGE', 'REACH', 'HANDER', 'GRABBER', GANTRY', 'BACK HOE', 'PORT', 'MERCEDES', 'VİNCE', 'SPIDER', 'PIPE', 'HANDLING', 'GLASS CRANE', 'LOAD', 'GRADER', 'GLASS CRANE', 'SPIDER']\n",
    "                            \n",
    "**3. 根据货物描述包含的关键词判断产品类型**\n",
    "* 挖掘机：\n",
    "    * crawler excavator -> EXCAVATOR\n",
    "    * wheel 或 tire -> WHEEL EXCAVATOR\n",
    "    * AMPHIBIOUS -> AMPHIBIOUS EXCAVATOR\n",
    "    * 不包含上述关键词的 -> UNKNOWN\n",
    "* 工起：\n",
    "    * Wheel 或 tire -> WHEELED CRANE\n",
    "    * rough -> ROUGH-TERRAIN CRANE\n",
    "    * crawler -> CRAWLER CRANE\n",
    "    * crawler 和 telescopic -> CRAWLER CRANE (TELESCOPIC_BOOM)\n",
    "    * 不包含上述关键词的 -> UNKNOWN\n",
    "    \n",
    "**4. 判断新旧机**\n",
    "* 包含如下关键词：['USED', 'SECOND HAND', 'SECONDHAND', 'OLD', '2ND HAND', 'REFURBISH']\n",
    "* 包含数字：1950 至 2019\n",
    "\n",
    "    **标记为旧机**\n",
    "\n",
    "**5. 零部件**\n",
    "* 包含如下关键词：['CKD', 'SKD', 'partial'] 备注为 **‘散装件’**"
   ]
  },
  {
   "cell_type": "code",
   "execution_count": 73,
   "id": "23753c6b-04f9-4b07-b5fd-e75ce1726c06",
   "metadata": {},
   "outputs": [],
   "source": [
    "# 输入参数：原始数据表，对照表，文件类型，其中文件类型可填写 'crane' 或 'excavator'\n",
    "# 输出：匹配后的表格；报错的行号（若有）\n",
    "df, error_rows_index = matching_program(df, df_ref, file_type='excavator')"
   ]
  },
  {
   "cell_type": "code",
   "execution_count": 74,
   "id": "695dd128-28f1-4b46-869d-34f695c92afb",
   "metadata": {},
   "outputs": [
    {
     "data": {
      "text/plain": [
       "dict_keys([])"
      ]
     },
     "execution_count": 74,
     "metadata": {},
     "output_type": "execute_result"
    }
   ],
   "source": [
    "# 检查是否有error项\n",
    "error_rows_index.keys()"
   ]
  },
  {
   "cell_type": "code",
   "execution_count": 75,
   "id": "85daa1fa-0669-4ee7-b8a7-5fa597e5abfd",
   "metadata": {},
   "outputs": [
    {
     "data": {
      "text/plain": [
       "完全匹配           814\n",
       "无品牌匹配          197\n",
       "存在品牌，没有匹配型号    168\n",
       "散装件             16\n",
       "Name: 备注, dtype: int64"
      ]
     },
     "execution_count": 75,
     "metadata": {},
     "output_type": "execute_result"
    }
   ],
   "source": [
    "# 查看备注统计\n",
    "df['备注'].value_counts()"
   ]
  },
  {
   "cell_type": "markdown",
   "id": "68b6fa21-9b85-4acf-baca-d551386bd519",
   "metadata": {},
   "source": [
    "# 通用表达式匹配\n",
    "目的：根据各品牌的型号命名规则，对上一步没有匹配上的数据进行规则匹配并进行信息标记"
   ]
  },
  {
   "cell_type": "code",
   "execution_count": 77,
   "id": "5852579b-82f4-4122-ad84-a03cb59b2d71",
   "metadata": {},
   "outputs": [],
   "source": [
    "# 读取通用表达式对照表\n",
    "df_regex = pd.read_excel('/Users/mingxu/Traymann/ZOOMLION/统计分析报告/8_印度尼西亚/土方/挖掘机/数据处理/数据对照表/Regex/20240312_土方REGEX对照表.xlsx',sheet_name='对照表')"
   ]
  },
  {
   "cell_type": "markdown",
   "id": "fdc829b7-2568-42da-b144-b37d252aeedf",
   "metadata": {},
   "source": [
    "**search_regex() 输入参数（依次）**\n",
    "* 原始表格\n",
    "* 筛选条件\n",
    "* 搜索列的列名\n",
    "* 通用表达式对照表\n",
    "* 是否对品牌进行筛选 **filter_brand=True/False**\n",
    "    * True: 如果条目已被标记过品牌，将**只会对该品牌下的**通用表达式规律进行搜索匹配\n",
    "    * False: 将会忽视品牌，根据**所有**对照表里的通用表达式规律进行搜索匹配\n",
    "* 是否标记吨位/吊重 **mark_load=True/False**\n",
    "    * True: mark\n",
    "    * False: ignore"
   ]
  },
  {
   "cell_type": "code",
   "execution_count": 79,
   "id": "0b65a247-a684-4078-9d90-e509be304ed1",
   "metadata": {},
   "outputs": [],
   "source": [
    "# 输入参数：原始表格，筛选条件，搜索列名，通用表达式对照表，选择是否通过品牌进行筛选\n",
    "# 对'存在品牌，没有匹配型号','无品牌匹配'\n",
    "df = search_regex(df, df['备注'].isin(['存在品牌，没有匹配型号']), '货物描述', df_regex, filter_brand=True, mark_load=True)"
   ]
  },
  {
   "cell_type": "code",
   "execution_count": 80,
   "id": "7a8d8e64-7b77-40d8-affc-38dc5f19897e",
   "metadata": {},
   "outputs": [],
   "source": [
    "df = search_regex(df, df['备注'].isin(['无品牌匹配']), '货物描述', df_regex, filter_brand=False, mark_load=True)"
   ]
  },
  {
   "cell_type": "markdown",
   "id": "adde9bc2-194b-4e92-9dc2-374f00bf0655",
   "metadata": {},
   "source": [
    "**search_capacity() 输入参数（依次）**\n",
    "* 原始表格\n",
    "* 搜索条件\n",
    "* 搜索列名\n",
    "* 搜索规律通用表达式"
   ]
  },
  {
   "cell_type": "markdown",
   "id": "a3fa34ff-1001-448a-9788-fd0d10da9719",
   "metadata": {},
   "source": [
    "目的：检索描述中包含 **$数字 + (metric) \\ TONS$** 关键词。这部分将会把TONS前面的数字标记为吊重。\n",
    "\n",
    "这部分的数据会被备注为：_描述中包含吊装载重能力描述_"
   ]
  },
  {
   "cell_type": "code",
   "execution_count": 95,
   "id": "b1f69c91-f94b-4204-b486-cc8c7f423936",
   "metadata": {},
   "outputs": [],
   "source": [
    "# 只搜索吨位标记为未知，但描述中包含tons的条目\n",
    "condition = df['吨位']=='UNKNOWN'\n",
    "search_col = '货物描述'\n",
    "capacity_regex = r'\\b(\\d+(?:\\.\\d+)?)\\s*(?:METRIC\\s*)?TONS?\\b'\n",
    "# (?:METRIC\\s*)?: Matches an optional 'METRIC' followed by optional whitespace characters. \n",
    "# The (?: ... ) is a non-capturing group.\n",
    "\n",
    "df = search_capacity(df, condition, search_col, capacity_regex)"
   ]
  },
  {
   "cell_type": "code",
   "execution_count": 143,
   "id": "342e85b3-592f-459c-a16c-eab35b4fa4ee",
   "metadata": {},
   "outputs": [
    {
     "data": {
      "text/plain": [
       "array(['CATERPILLAR', 'XGMA', 'KOMATSU', 'DOOSAN', 'HITACHI', 'HYUNDAI',\n",
       "       'LOVOL', 'MAXPOWER', 'ZOOMLION', 'LONKING', 'LIEBHERR'],\n",
       "      dtype=object)"
      ]
     },
     "execution_count": 143,
     "metadata": {},
     "output_type": "execute_result"
    }
   ],
   "source": [
    "df.loc[df['备注'].isin(['存在品牌，没有匹配型号']),'品牌'].unique()"
   ]
  },
  {
   "cell_type": "code",
   "execution_count": 227,
   "id": "07b6bb53-2bb2-42ca-81a0-36eaca85f201",
   "metadata": {},
   "outputs": [
    {
     "data": {
      "text/plain": [
       "完全匹配                                    814\n",
       "无品牌匹配                                   164\n",
       "根据规律匹配，型号唯一                             124\n",
       "存在品牌，没有匹配型号                              31\n",
       "描述中未找到对应品牌，根据规律匹配型号，型号唯一                 29\n",
       "散装件                                      16\n",
       "根据规律，有多个匹配结果，但只保留最长型号                    14\n",
       "描述中包含吊装载重能力描述                             2\n",
       "描述中未找到对应品牌，根据规律匹配型号，有多个匹配结果，但只保留最长型号      1\n",
       "Name: 备注, dtype: int64"
      ]
     },
     "execution_count": 227,
     "metadata": {},
     "output_type": "execute_result"
    }
   ],
   "source": [
    "df['备注'].value_counts()"
   ]
  },
  {
   "cell_type": "markdown",
   "id": "f0de727d-aca4-412d-b828-eb7992565848",
   "metadata": {},
   "source": [
    "Crawler crane 300T以上的基本可以判断为 Lattice boom"
   ]
  },
  {
   "cell_type": "code",
   "execution_count": 249,
   "id": "c3304fc3-2a2f-4c67-8bd2-b5983f0e0573",
   "metadata": {},
   "outputs": [],
   "source": [
    "# 将吨位转换为数字以便计算\n",
    "df['吨位'] = pd.to_numeric(df['吨位'], errors='coerce')\n",
    "# df.loc[(df['类型'].isin(['CRAWLER CRANE']))&(df['吨位'].notna())&(df['吨位']>300),'类型'] = 'CRAWLER CRANE (LATTICE_BOOM)'"
   ]
  },
  {
   "cell_type": "code",
   "execution_count": 278,
   "id": "0df2c897-a6e8-452c-8c72-cc184901fbf9",
   "metadata": {},
   "outputs": [
    {
     "data": {
      "text/html": [
       "<div>\n",
       "<style scoped>\n",
       "    .dataframe tbody tr th:only-of-type {\n",
       "        vertical-align: middle;\n",
       "    }\n",
       "\n",
       "    .dataframe tbody tr th {\n",
       "        vertical-align: top;\n",
       "    }\n",
       "\n",
       "    .dataframe thead th {\n",
       "        text-align: right;\n",
       "    }\n",
       "</style>\n",
       "<table border=\"1\" class=\"dataframe\">\n",
       "  <thead>\n",
       "    <tr style=\"text-align: right;\">\n",
       "      <th></th>\n",
       "      <th>型号</th>\n",
       "      <th>货物描述</th>\n",
       "      <th>供应商</th>\n",
       "      <th>备注</th>\n",
       "    </tr>\n",
       "  </thead>\n",
       "  <tbody>\n",
       "    <tr>\n",
       "      <th>497</th>\n",
       "      <td>E69W</td>\n",
       "      <td>WHEEL EXCAVATOR BE69W-B</td>\n",
       "      <td>SHANDONG KEN STONE HEAVY MACHINERY CO</td>\n",
       "      <td>描述中未找到对应品牌，根据规律匹配型号，型号唯一</td>\n",
       "    </tr>\n",
       "  </tbody>\n",
       "</table>\n",
       "</div>"
      ],
      "text/plain": [
       "       型号                     货物描述                                    供应商  \\\n",
       "497  E69W  WHEEL EXCAVATOR BE69W-B  SHANDONG KEN STONE HEAVY MACHINERY CO   \n",
       "\n",
       "                           备注  \n",
       "497  描述中未找到对应品牌，根据规律匹配型号，型号唯一  "
      ]
     },
     "execution_count": 278,
     "metadata": {},
     "output_type": "execute_result"
    }
   ],
   "source": [
    " df.loc[df['品牌']=='UNIMAX',['型号','货物描述','供应商','备注']]"
   ]
  },
  {
   "cell_type": "code",
   "execution_count": 269,
   "id": "6b7ce022-4745-4890-bfa2-26346d8fae8e",
   "metadata": {},
   "outputs": [],
   "source": [
    "update_list = [{'brand': 'BOMAC', 'model_regex': r'BE\\d{2,3}-d?[BCLXY]', 'capcacity_regex':r'BE(\\d+)', 'category':'WHEEL EXCAVATOR', 'starting_point':0}]\n",
    "df_regex = update_regex_df(df_regex, update_list)"
   ]
  },
  {
   "cell_type": "code",
   "execution_count": 295,
   "id": "1319eb37-4959-490a-9b99-69aec1d41b1d",
   "metadata": {},
   "outputs": [],
   "source": [
    "df = search_regex(df, df['货物描述']=='WHEEL EXCAVATOR BE69W-B', '货物描述', df_regex, filter_brand=True, mark_load=True)"
   ]
  },
  {
   "cell_type": "code",
   "execution_count": 296,
   "id": "a8b45224-9cf0-4acd-a90d-8cd978f54953",
   "metadata": {},
   "outputs": [
    {
     "data": {
      "text/html": [
       "<div>\n",
       "<style scoped>\n",
       "    .dataframe tbody tr th:only-of-type {\n",
       "        vertical-align: middle;\n",
       "    }\n",
       "\n",
       "    .dataframe tbody tr th {\n",
       "        vertical-align: top;\n",
       "    }\n",
       "\n",
       "    .dataframe thead th {\n",
       "        text-align: right;\n",
       "    }\n",
       "</style>\n",
       "<table border=\"1\" class=\"dataframe\">\n",
       "  <thead>\n",
       "    <tr style=\"text-align: right;\">\n",
       "      <th></th>\n",
       "      <th>月度</th>\n",
       "      <th>海关编码</th>\n",
       "      <th>产品描述</th>\n",
       "      <th>进口商</th>\n",
       "      <th>供应商</th>\n",
       "      <th>原产国</th>\n",
       "      <th>原产国所在州</th>\n",
       "      <th>数量</th>\n",
       "      <th>单位</th>\n",
       "      <th>美元金额</th>\n",
       "      <th>...</th>\n",
       "      <th>重量</th>\n",
       "      <th>公吨</th>\n",
       "      <th>单位数量吨净重</th>\n",
       "      <th>货物描述</th>\n",
       "      <th>品牌</th>\n",
       "      <th>型号</th>\n",
       "      <th>吨位</th>\n",
       "      <th>类型</th>\n",
       "      <th>备注</th>\n",
       "      <th>新旧</th>\n",
       "    </tr>\n",
       "  </thead>\n",
       "  <tbody>\n",
       "    <tr>\n",
       "      <th>497</th>\n",
       "      <td>202402</td>\n",
       "      <td>84295200</td>\n",
       "      <td>WHEEL EXCAVATOR BE69W-B</td>\n",
       "      <td>PT INDOTARA PERSADA</td>\n",
       "      <td>SHANDONG KEN STONE HEAVY MACHINERY CO</td>\n",
       "      <td>China (CN)</td>\n",
       "      <td>Asia</td>\n",
       "      <td>2</td>\n",
       "      <td>UNT</td>\n",
       "      <td>51647.5</td>\n",
       "      <td>...</td>\n",
       "      <td>13980.0</td>\n",
       "      <td>14.0</td>\n",
       "      <td>7.0</td>\n",
       "      <td>WHEEL EXCAVATOR BE69W-B</td>\n",
       "      <td>BOMAC</td>\n",
       "      <td>BE69W-B</td>\n",
       "      <td>6.9</td>\n",
       "      <td>WHEEL EXCAVATOR</td>\n",
       "      <td>根据规律匹配，型号唯一</td>\n",
       "      <td>新</td>\n",
       "    </tr>\n",
       "  </tbody>\n",
       "</table>\n",
       "<p>1 rows × 33 columns</p>\n",
       "</div>"
      ],
      "text/plain": [
       "         月度      海关编码                     产品描述                  进口商  \\\n",
       "497  202402  84295200  WHEEL EXCAVATOR BE69W-B  PT INDOTARA PERSADA   \n",
       "\n",
       "                                       供应商         原产国 原产国所在州  数量   单位  \\\n",
       "497  SHANDONG KEN STONE HEAVY MACHINERY CO  China (CN)   Asia   2  UNT   \n",
       "\n",
       "       美元金额  ...      重量   公吨  单位数量吨净重                     货物描述     品牌  \\\n",
       "497 51647.5  ... 13980.0 14.0      7.0  WHEEL EXCAVATOR BE69W-B  BOMAC   \n",
       "\n",
       "          型号  吨位               类型           备注 新旧  \n",
       "497  BE69W-B 6.9  WHEEL EXCAVATOR  根据规律匹配，型号唯一  新  \n",
       "\n",
       "[1 rows x 33 columns]"
      ]
     },
     "execution_count": 296,
     "metadata": {},
     "output_type": "execute_result"
    }
   ],
   "source": [
    "df.loc[df['货物描述']=='WHEEL EXCAVATOR BE69W-B']"
   ]
  },
  {
   "cell_type": "markdown",
   "id": "596964cb-2fd7-4679-b9f6-91ca127dbd35",
   "metadata": {},
   "source": [
    "因为CATERPILLAR的型号命名规则简单，很容易受主机序列号影响被错误标记，因此单独处理"
   ]
  },
  {
   "cell_type": "code",
   "execution_count": 302,
   "id": "2215103b-01f3-4744-9327-d0e5a9e0e797",
   "metadata": {},
   "outputs": [
    {
     "data": {
      "text/plain": [
       "型号       类型               新旧  备注         \n",
       "305.5E2  EXCAVATOR        新   完全匹配           12\n",
       "320      EXCAVATOR        新   完全匹配            7\n",
       "330 GC   EXCAVATOR        新   完全匹配            7\n",
       "UNKNOWN  UNKNOWN          旧   存在品牌，没有匹配型号     7\n",
       "313      EXCAVATOR        新   完全匹配            6\n",
       "305      EXCAVATOR        旧   完全匹配            5\n",
       "307E     EXCAVATOR        旧   完全匹配            4\n",
       "305.5E2  EXCAVATOR        旧   完全匹配            3\n",
       "307      EXCAVATOR        新   完全匹配            3\n",
       "6020B    EXCAVATOR        新   完全匹配            3\n",
       "307      EXCAVATOR        旧   完全匹配            2\n",
       "345 GC   EXCAVATOR        新   完全匹配            2\n",
       "211      EXCAVATOR        旧   完全匹配            1\n",
       "333      EXCAVATOR        新   完全匹配            1\n",
       "M320     WHEEL EXCAVATOR  新   完全匹配            1\n",
       "dtype: int64"
      ]
     },
     "execution_count": 302,
     "metadata": {},
     "output_type": "execute_result"
    }
   ],
   "source": [
    "df.loc[df['品牌']=='CATERPILLAR',['型号','类型','新旧','备注']].value_counts()"
   ]
  },
  {
   "cell_type": "code",
   "execution_count": 305,
   "id": "bdade5a8-27a0-4b0e-a58e-89fb8b4a5f2e",
   "metadata": {},
   "outputs": [],
   "source": [
    "cat_regex = pd.read_excel('数据对照表/Regex/20240312_土方CAT_REGEX对照表.xlsx',sheet_name='对照表')"
   ]
  },
  {
   "cell_type": "code",
   "execution_count": 311,
   "id": "97d81638-e1b4-43bb-9833-99a6f4a127cf",
   "metadata": {},
   "outputs": [],
   "source": [
    "cat_regex.columns = ['brand', 'model_regex', 'capacity_regex', 'category', 'starting_point']"
   ]
  },
  {
   "cell_type": "code",
   "execution_count": 312,
   "id": "f5d07e8a-813d-4b7c-bf3e-c4adea458032",
   "metadata": {},
   "outputs": [],
   "source": [
    "df = search_regex(df, (df['品牌']=='CATERPILLAR')&(df['型号']=='UNKNOWN'), '货物描述', cat_regex, filter_brand=True, mark_load=True)"
   ]
  },
  {
   "cell_type": "code",
   "execution_count": 316,
   "id": "ebbe74b2-7212-4565-875c-255c41c3897b",
   "metadata": {},
   "outputs": [
    {
     "data": {
      "text/plain": [
       "完全匹配                                    814\n",
       "无品牌匹配                                   164\n",
       "根据规律匹配，型号唯一                             125\n",
       "描述中未找到对应品牌，根据规律匹配型号，型号唯一                 28\n",
       "存在品牌，没有匹配型号                              24\n",
       "根据规律，有多个匹配结果，但只保留最长型号                    21\n",
       "散装件                                      16\n",
       "描述中包含吊装载重能力描述                             2\n",
       "描述中未找到对应品牌，根据规律匹配型号，有多个匹配结果，但只保留最长型号      1\n",
       "Name: 备注, dtype: int64"
      ]
     },
     "execution_count": 316,
     "metadata": {},
     "output_type": "execute_result"
    }
   ],
   "source": [
    "df['备注'].value_counts()"
   ]
  },
  {
   "cell_type": "markdown",
   "id": "2ccbe093-e238-4927-b2fd-f8ee93316cb1",
   "metadata": {},
   "source": [
    "# 利用已知信息反向标记\n",
    "此部分将用已标记了品牌、型号、吊重、类型信息的条目（A条目），反向匹配包含品牌、吊重和类型的条目（B条目）。\n",
    "\n",
    "运行条件：只要满足品牌和类型匹配，且B的吊重在已知A吊重的±5%范围内。\n",
    "\n",
    "例如：已知A和B两个条目品牌和类型一致，A包含上述的4个已知信息。B的吊重通过数字+TONS的方式知道该信息。下面的方程将会计算B的吨位±5%作为阈值，如果A的吊重正好在这个区间内，那判断B的型号和A一致。\n",
    "\n",
    "| 条目 | 品牌 | 型号 | 吊重 | 类型 |\n",
    "|------|------|------|------|------|\n",
    "| A    | ✓    | ✓    | ✓    | ✓    |\n",
    "| B    | ✓    | ✘    | ✓    | ✓    |"
   ]
  },
  {
   "cell_type": "code",
   "execution_count": 333,
   "id": "5ad545f9-65ba-454c-8ef0-4b39cac3857b",
   "metadata": {},
   "outputs": [],
   "source": [
    "# 参数只需要填写需要进行标记的数据表\n",
    "df = mark_unknown_model_with_exsisted_lifting_capacity(df)"
   ]
  },
  {
   "cell_type": "code",
   "execution_count": 334,
   "id": "9f8a6787-cde3-4b52-a02f-d0111c3285ca",
   "metadata": {},
   "outputs": [
    {
     "name": "stdout",
     "output_type": "stream",
     "text": [
      "无品牌匹配条目总计金额: 941.45 万美金\n",
      "无品牌匹配条目总计数量: 331 台\n"
     ]
    }
   ],
   "source": [
    "# 计算无品牌匹配条目的金额和数量\n",
    "unlabeled_value = round(df.loc[df['备注'] == '无品牌匹配','美元金额'].sum(),1)\n",
    "unlabeled_qty = df.loc[df['备注'] == '无品牌匹配','数量'].sum()\n",
    "print(f'无品牌匹配条目总计金额: {round(unlabeled_value/10000,2)} 万美金')\n",
    "print(f'无品牌匹配条目总计数量: {unlabeled_qty} 台')"
   ]
  },
  {
   "cell_type": "markdown",
   "id": "d3757794-5f7c-4a12-8090-df79a813fc93",
   "metadata": {},
   "source": [
    "# 标记异常值"
   ]
  },
  {
   "cell_type": "markdown",
   "id": "2ac589f3-83d0-4722-ab08-12aedcc96760",
   "metadata": {},
   "source": [
    "检查是否有空值"
   ]
  },
  {
   "cell_type": "code",
   "execution_count": 335,
   "id": "361685dc-63c1-4156-89f3-91e7d9da64e9",
   "metadata": {},
   "outputs": [
    {
     "data": {
      "text/plain": [
       "285"
      ]
     },
     "execution_count": 335,
     "metadata": {},
     "output_type": "execute_result"
    }
   ],
   "source": [
    "df['单位数量吨净重'].isna().sum()"
   ]
  },
  {
   "cell_type": "markdown",
   "id": "d1fe45b1-1399-4720-9333-f85b7eb2a40e",
   "metadata": {},
   "source": [
    "**mark_outliers(df, term=True)**\n",
    "* 输入参数（依次）：\n",
    "    * 原始数据表\n",
    "    * 条件：可选择 **True/False**；另：如果存在条款列，term参数需填写为True，另外要确保该条款列叫 “交易条款”\n",
    "        * True：异常值判断将以品牌、型号、条款为筛选条件，取上述三个标记同时满足情况下的**价格中位数**为参照标准；\n",
    "        * False：如果原始表格不包含条款，选择false将不会以条款为筛选条件，并**只会对同品牌型号下的价格取中位数**按照上述标准进行判断。\n",
    "\n",
    "**目的：** 找到价格异常高和异常低的条目，以便后续进行价格分析\n",
    "\n",
    "**价格异常判断标准：**\n",
    "\n",
    "计算同品牌型号单价的的中位数，如果存在贸易条款，要同一贸易条款下的进行判断\n",
    "* 未知：型号未知、旧机；\n",
    "* 正常：条目的价格在中位数±20%内，标记为不异常；\n",
    "* 异常：上述阈值范围外为价格异常。"
   ]
  },
  {
   "cell_type": "code",
   "execution_count": 340,
   "id": "338b7a2f-109f-41e7-bdfd-ac4cbd2b6979",
   "metadata": {},
   "outputs": [],
   "source": [
    "df = mark_outliers(df, term=False)"
   ]
  },
  {
   "cell_type": "markdown",
   "id": "6d1c1066-8c9c-4a0d-b982-c64012cb6ddf",
   "metadata": {
    "tags": []
   },
   "source": [
    "# 吨位或吊重区间划分\n",
    "**define_load_interval(df, file_type, load_interval)**\n",
    "输入参数（依次）\n",
    "* 原始数据表\n",
    "* 文件类型：需要填写 **crane** 或 **excavator**；注意：挖掘机和工起的划分逻辑不一样\n",
    "* 区间划分间隔\n",
    "   * 若填写50，则以50为一个区间划分。例如：≤50T, 50-100T, 100-150T依次类推；\n",
    "   * 工起数据写50比较合理"
   ]
  },
  {
   "cell_type": "markdown",
   "id": "088c060d-f81a-47e5-b870-26744bbfd2cb",
   "metadata": {},
   "source": [
    "**工起**\n",
    "* 工起存在吊重远远大于自重的情况，而且不同种类的情况不同，不能通过设备自身重量来进行推测；\n",
    "* 只会对标记了吊重的条目进行区间划分\n",
    "    \n",
    "    \n",
    "**挖掘机**\n",
    "\n",
    "挖掘机的吨位和设备本身的自重几乎一致，对未知条目会通过重量进行划分\n",
    "* 对已知吨位进行划分\n",
    "* 对未知吨位的条目，通过重量进行划分"
   ]
  },
  {
   "cell_type": "code",
   "execution_count": 411,
   "id": "cd746d5f-4149-44a0-bf97-5161a8932661",
   "metadata": {},
   "outputs": [],
   "source": [
    "define_load_interval(df, file_type = 'excavator', load_interval = 10)"
   ]
  },
  {
   "cell_type": "code",
   "execution_count": 441,
   "id": "87b3aadb-cc61-4a92-a7d5-7b69f70b0ab2",
   "metadata": {},
   "outputs": [],
   "source": [
    "define_excavator_load_type_interval(df)"
   ]
  },
  {
   "cell_type": "code",
   "execution_count": 442,
   "id": "ce225667-b0a5-4102-9697-b687b5a60e00",
   "metadata": {},
   "outputs": [
    {
     "data": {
      "text/plain": [
       "5-10T      726\n",
       "10-30T     263\n",
       "30-70T     121\n",
       "<5T         37\n",
       "UNKNOWN     27\n",
       "≥90T        15\n",
       "70-90T       6\n",
       "Name: 吨位类型划分, dtype: int64"
      ]
     },
     "execution_count": 442,
     "metadata": {},
     "output_type": "execute_result"
    }
   ],
   "source": [
    "df['吨位类型划分'].value_counts()"
   ]
  },
  {
   "cell_type": "code",
   "execution_count": 412,
   "id": "2112f569-8c56-428b-8293-f5be59801ebb",
   "metadata": {},
   "outputs": [
    {
     "data": {
      "text/plain": [
       "5-10T       726\n",
       "20-30T      222\n",
       "30-40T       62\n",
       "40-50T       41\n",
       "10-20T       41\n",
       "<5T          37\n",
       "50-60T       17\n",
       "UNKNOWN      12\n",
       "110-120T      6\n",
       "70-80T        5\n",
       "200-210T      4\n",
       "230-240T      3\n",
       "80-90T        1\n",
       "90-100T       1\n",
       "100-110T      1\n",
       "60-70T        1\n",
       "Name: 吨位范围, dtype: int64"
      ]
     },
     "execution_count": 412,
     "metadata": {},
     "output_type": "execute_result"
    }
   ],
   "source": [
    "df['吨位范围'].value_counts()"
   ]
  },
  {
   "cell_type": "code",
   "execution_count": 444,
   "id": "41fa2c58-2c1a-4a64-b471-e7768c25bf8e",
   "metadata": {},
   "outputs": [],
   "source": [
    "df['吨位类型划分'] = df['吨位类型划分'].fillna('UNKNOWN')\n",
    "df['吨位范围'] = df['吨位范围'].fillna('UNKNOWN')"
   ]
  },
  {
   "cell_type": "markdown",
   "id": "baf0a0f7-1deb-4a44-a65e-7a6c9dcd87c1",
   "metadata": {},
   "source": [
    "# 汇率换算及其它"
   ]
  },
  {
   "cell_type": "markdown",
   "id": "9848aef5-6711-4d8d-aa06-b41537091023",
   "metadata": {},
   "source": [
    "**convert_usd_to_cny(df, rate_dict)**\n",
    "\n",
    "输入参数：\n",
    "* 原始数据表：确保存在 ['日期', '美元单价', '美元金额'] 三列\n",
    "* 汇率换算表：文件形式是个dictionary，最新的汇率更新后需要手动填进‘rate_dict’，历史数据会按照字典里的日期进行计算对应汇率"
   ]
  },
  {
   "cell_type": "code",
   "execution_count": 416,
   "id": "42b78976-45cd-44a0-bdcf-ee27248fa51a",
   "metadata": {},
   "outputs": [],
   "source": [
    "rate_dict = {2023: {1: 6.7604, 2: 6.9519, 3: 6.8717, 4: 6.924, 5: 7.0821, 6: 7.2258, 7: 7.1305, 8: 7.1811, 9: 7.1798, 10: 7.1779, 11: 7.1018, 12: 7.0827},\n",
    "             2024: {1: 7.1039, 2: 7.1036, 3: 7.0950, 4:7.1063}}\n",
    "\n",
    "df = convert_usd_to_cny(df, rate_dict)"
   ]
  },
  {
   "cell_type": "code",
   "execution_count": 418,
   "id": "2b660c60-b457-4e79-b9b8-ea5e9edc8a6c",
   "metadata": {},
   "outputs": [],
   "source": [
    "# 清楚型号里的除特殊符号及多余空格\n",
    "df['型号'] = df['型号'].apply(lambda x: x.replace(' ',''))\n",
    "df['型号'] = df['型号'].apply(lambda x: x.lstrip())\n",
    "df['型号'] = df['型号'].apply(lambda x: x.rstrip())"
   ]
  },
  {
   "cell_type": "markdown",
   "id": "45c7bf77-bd70-400b-a09d-f98831504af1",
   "metadata": {},
   "source": [
    "_**下面的代码仅在处理工起数据时使用**_"
   ]
  },
  {
   "cell_type": "code",
   "execution_count": null,
   "id": "3da4ccea-7b5a-4e6a-a033-ea8a50190aee",
   "metadata": {},
   "outputs": [],
   "source": [
    "# 新建工起一二级中文分类\n",
    "EN_CN = pd.read_excel('/Users/mingxu/Traymann/ZOOMLION/数据对照表/工起类型分类对照表.xlsx',sheet_name='Sheet1')"
   ]
  },
  {
   "cell_type": "code",
   "execution_count": null,
   "id": "7dcc410b-c4e1-4510-93be-b64d57457caf",
   "metadata": {},
   "outputs": [],
   "source": [
    "df = pd.merge(df, EN_CN, how='left', on='类型')"
   ]
  },
  {
   "cell_type": "markdown",
   "id": "1f50d692-d1ba-476f-9917-6f98aebd9ec7",
   "metadata": {},
   "source": [
    "保存目前清理后的数据"
   ]
  },
  {
   "cell_type": "code",
   "execution_count": 419,
   "id": "2d07d492-a988-4680-aa63-1cc87b9d5a63",
   "metadata": {},
   "outputs": [],
   "source": [
    "# 保存目前清理后的数据\n",
    "df.to_excel('/Users/mingxu/Traymann/ZOOMLION/统计分析报告/8_印度尼西亚/土方/挖掘机/数据处理/2024年一季度印尼挖掘机进口数据_已清理和异常判断.xlsx', sheet_name='Sheet1', index=False)"
   ]
  },
  {
   "cell_type": "markdown",
   "id": "52b985d7-1abb-47e8-a79f-7b57e491ec06",
   "metadata": {
    "tags": []
   },
   "source": [
    "# 更新历史数据\n",
    "\n",
    "将历史数据和最新数据合并，需要满足如下条件：\n",
    "* 读取历史数据\n",
    "* 确认逻辑统一 (本文件里的所有方程都可以重复利用来统一历史数据的逻辑)\n",
    "* 确认所有合并文件的列名一致（位置不重要但名字一定要一致）"
   ]
  },
  {
   "cell_type": "code",
   "execution_count": 420,
   "id": "375c3f7b-54ab-44a7-ae52-dd07b46b2dfe",
   "metadata": {},
   "outputs": [],
   "source": [
    "df_hist = pd.read_excel('/Users/mingxu/Traymann/ZOOMLION/统计分析报告/8_印度尼西亚/土方/挖掘机/2022年8-2023年印尼挖掘机进口数据快报.xlsx',sheet_name='7_原始数据')"
   ]
  },
  {
   "cell_type": "code",
   "execution_count": 422,
   "id": "6b181a2f-8c24-4aff-ac45-6e91794922b7",
   "metadata": {},
   "outputs": [
    {
     "data": {
      "text/plain": [
       "0        5-10T\n",
       "1        5-10T\n",
       "2       30-70T\n",
       "3       30-70T\n",
       "4       30-70T\n",
       "         ...  \n",
       "5327    10-30T\n",
       "5328    10-30T\n",
       "5329     5-10T\n",
       "5330    10-30T\n",
       "5331     5-10T\n",
       "Name: 吨位类型划分, Length: 5332, dtype: object"
      ]
     },
     "execution_count": 422,
     "metadata": {},
     "output_type": "execute_result"
    }
   ],
   "source": [
    "df_hist['吨位类型划分']"
   ]
  },
  {
   "cell_type": "markdown",
   "id": "35da3ea2-f5a5-4310-935f-fb25479c5ac8",
   "metadata": {},
   "source": [
    "**check_col_names(df.columns, df_hist.columns)**\n",
    "\n",
    "检查合并的表格列名是否一致，左边是original，右边是reference；只要满足其中一个文件的列名是另一个文件的子集即可"
   ]
  },
  {
   "cell_type": "code",
   "execution_count": 452,
   "id": "65dccfab-219d-4ec7-9eae-2f117f688b03",
   "metadata": {},
   "outputs": [
    {
     "name": "stdout",
     "output_type": "stream",
     "text": [
      "Columns in the reference df but not in original: {'马力', '公吨', '美元重量计单价', '净重千克'}\n"
     ]
    }
   ],
   "source": [
    "check_col_names(df.columns, df_hist.columns)"
   ]
  },
  {
   "cell_type": "markdown",
   "id": "2487088a-8ffc-456b-b958-99fd9ba0c5d1",
   "metadata": {},
   "source": [
    "数据合并"
   ]
  },
  {
   "cell_type": "code",
   "execution_count": 453,
   "id": "f5864791-8c99-483d-bea3-24c9aaba32de",
   "metadata": {},
   "outputs": [],
   "source": [
    "df_updated = pd.concat([df_hist, df], axis=0, ignore_index=True)"
   ]
  },
  {
   "cell_type": "code",
   "execution_count": 455,
   "id": "131d0db4-3e7e-4307-980a-887608e1d93a",
   "metadata": {},
   "outputs": [],
   "source": [
    "# 清楚型号里的除特殊符号及多余空格\n",
    "df_updated['型号'] = df_updated['型号'].apply(lambda x: x.replace(' ',''))\n",
    "df_updated['型号'] = df_updated['型号'].apply(lambda x: x.lstrip())\n",
    "df_updated['型号'] = df_updated['型号'].apply(lambda x: x.rstrip())"
   ]
  },
  {
   "cell_type": "code",
   "execution_count": 456,
   "id": "92131168-aaf1-445d-a836-6c04d246027c",
   "metadata": {},
   "outputs": [],
   "source": [
    "# 保存合并后的数据\n",
    "df_updated.to_excel('/Users/mingxu/Traymann/ZOOMLION/统计分析报告/8_印度尼西亚/土方/挖掘机/2022年8-2024年3月印尼挖掘机进口数据_已清理及异常判断.xlsx',sheet_name='Sheet1',index=False)"
   ]
  }
 ],
 "metadata": {
  "kernelspec": {
   "display_name": "Python 3 (ipykernel)",
   "language": "python",
   "name": "python3"
  },
  "language_info": {
   "codemirror_mode": {
    "name": "ipython",
    "version": 3
   },
   "file_extension": ".py",
   "mimetype": "text/x-python",
   "name": "python",
   "nbconvert_exporter": "python",
   "pygments_lexer": "ipython3",
   "version": "3.9.13"
  }
 },
 "nbformat": 4,
 "nbformat_minor": 5
}
