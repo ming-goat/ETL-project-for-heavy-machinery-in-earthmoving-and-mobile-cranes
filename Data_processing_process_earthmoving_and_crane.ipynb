{
 "cells": [
  {
   "cell_type": "markdown",
   "id": "63eb6872-9888-4090-b486-65619cbaa83b",
   "metadata": {},
   "source": [
    "# Data cleaning piple line of earthmoving and mobile-crane"
   ]
  },
  {
   "cell_type": "markdown",
   "id": "ff962e13-db9e-49d8-9ed1-ffe05e336734",
   "metadata": {},
   "source": [
    "**Author:** _Ming Xu_\n",
    "\n",
    "**Last update:** _2024.06.24_"
   ]
  },
  {
   "cell_type": "code",
   "execution_count": 2,
   "id": "ecfc3f22-e5d9-4f4f-b2f8-d5a61cd2972e",
   "metadata": {},
   "outputs": [],
   "source": [
    "# import necessary packages\n",
    "import pandas as pd\n",
    "import numpy as np\n",
    "import matplotlib.pyplot as plt\n",
    "import warnings\n",
    "warnings.filterwarnings('ignore')\n",
    "from data_processing_program_20240520 import deal_special_brand, pre_processing, data_preperation, matching_program, search_regex, search_capacity, mark_unknown_model_with_exsisted_lifting_capacity, mark_outliers, convert_usd_to_cny, update_regex_df, check_col_names, define_load_interval, define_excavator_load_type_interval, check_col_names, matching_program_individual\n",
    "pd.options.display.float_format = '{:.1f}'.format\n",
    "import re"
   ]
  },
  {
   "cell_type": "markdown",
   "id": "03127cab-9c5e-4630-9a93-3cbcd5699276",
   "metadata": {},
   "source": [
    "# Data pre-processing"
   ]
  },
  {
   "cell_type": "code",
   "execution_count": 3,
   "id": "7fc72b36-e4c1-4ba0-9d95-eeea64beec9b",
   "metadata": {},
   "outputs": [],
   "source": [
    "# Read dataframe, and input the route to the following code\n",
    "df = pd.read_excel('Indonesia_842952_May_July.xlsx', sheet_name=\"Sheet1\")"
   ]
  },
  {
   "cell_type": "markdown",
   "id": "13350d27-5857-4382-a07b-4437f228a751",
   "metadata": {},
   "source": [
    "Make sure **'date', 'product description', 'supplier', 'amount in usd', 'weight', 'qty', 'unit'** are existed in the col names"
   ]
  },
  {
   "cell_type": "markdown",
   "id": "063a4080-f7c7-4f8b-b47c-3dd6213684f6",
   "metadata": {},
   "source": [
    "Convert **date** in format"
   ]
  },
  {
   "cell_type": "code",
   "execution_count": 4,
   "id": "9a08ee64-1df0-4c57-b0ca-3b0d7601d19e",
   "metadata": {},
   "outputs": [],
   "source": [
    "df['date'] = pd.to_datetime(df['date'])"
   ]
  },
  {
   "cell_type": "markdown",
   "id": "f05d79a9-aa6b-462e-b9e4-2c598976e85b",
   "metadata": {},
   "source": [
    "Check units to ensure that they are unified. Exceptions should be checked individually and get unified, e.g., the presence of UNIT and SET in the tables"
   ]
  },
  {
   "cell_type": "code",
   "execution_count": 5,
   "id": "a8335c93-2cb5-4927-9255-02dcbe961c45",
   "metadata": {},
   "outputs": [
    {
     "data": {
      "text/plain": [
       "Number of international units    1185\n",
       "Set                                94\n",
       "Piece                              13\n",
       "aluminium pound only                1\n",
       "each                                1\n",
       "Name: unit, dtype: int64"
      ]
     },
     "execution_count": 5,
     "metadata": {},
     "output_type": "execute_result"
    }
   ],
   "source": [
    "df['unit'].value_counts()"
   ]
  },
  {
   "cell_type": "markdown",
   "id": "0e0ad466-9971-45e5-932f-d81fb8003c78",
   "metadata": {},
   "source": [
    "Delete rows that **'amount in usd'** and **'price in usd'**amount in usd **below 10K**."
   ]
  },
  {
   "cell_type": "code",
   "execution_count": 6,
   "id": "c86436f3-50f1-4f99-8003-50af007b24e1",
   "metadata": {},
   "outputs": [],
   "source": [
    "df = df[df['amount in usd']>=10000]\n",
    "df = df[df['price in usd']>=10000]\n",
    "df = df.reset_index(drop=True)"
   ]
  },
  {
   "cell_type": "markdown",
   "id": "de100650-e715-4693-a039-98fc127928bf",
   "metadata": {},
   "source": [
    "Calculate unit price and net weight in tons\n",
    "\n",
    "$$unit\\ price = \\frac{amount}{quantity}$$\n",
    "\n",
    "$$weight\\ (ton) = \\frac{weight\\ (kg)}{quantity \\times 1000}$$"
   ]
  },
  {
   "cell_type": "code",
   "execution_count": 7,
   "id": "3a7eeb11-8b5f-421c-adb9-fb5555d1447f",
   "metadata": {},
   "outputs": [],
   "source": [
    "# Converts quantities and weights into numeric format for easy calculation\n",
    "df['qty'] = pd.to_numeric(df['qty'], errors='coerce')\n",
    "df['weight in kg'] = pd.to_numeric(df['weight in kg'], errors='coerce')\n",
    "\n",
    "# Calculate unit price and net weight per unit in ton\n",
    "df['price in usd'] = df['amount in usd']/df['qty']\n",
    "df['unit weight in ton'] = df['weight in kg']/df['qty']/1000"
   ]
  },
  {
   "cell_type": "code",
   "execution_count": 8,
   "id": "6d02391f-76f7-4d29-887e-2eba4b4e1cac",
   "metadata": {},
   "outputs": [],
   "source": [
    "# load reference dataframe\n",
    "df_ref = pd.read_excel('/Users/mingxu/Traymann/ZOOMLION/统计分析报告/8_印度尼西亚/土方/挖掘机/数据处理/数据对照表/型号对照/20240115_土方对照表_含吨位和马力.xlsx', sheet_name=\"对照表\")"
   ]
  },
  {
   "cell_type": "markdown",
   "id": "62c51c80-e7d4-4a90-a531-b196772166e8",
   "metadata": {},
   "source": [
    "_Example of the reference table:_\n",
    "\n",
    "Abbreviations\n",
    "* Capacity stands for the load or the max lifting capacity of the model\n",
    "* hp - Horse power"
   ]
  },
  {
   "cell_type": "code",
   "execution_count": 9,
   "id": "218f3f4b-d603-4e92-bcd2-af516aba5646",
   "metadata": {},
   "outputs": [
    {
     "data": {
      "text/html": [
       "<div>\n",
       "<style scoped>\n",
       "    .dataframe tbody tr th:only-of-type {\n",
       "        vertical-align: middle;\n",
       "    }\n",
       "\n",
       "    .dataframe tbody tr th {\n",
       "        vertical-align: top;\n",
       "    }\n",
       "\n",
       "    .dataframe thead th {\n",
       "        text-align: right;\n",
       "    }\n",
       "</style>\n",
       "<table border=\"1\" class=\"dataframe\">\n",
       "  <thead>\n",
       "    <tr style=\"text-align: right;\">\n",
       "      <th></th>\n",
       "      <th>brand</th>\n",
       "      <th>model</th>\n",
       "      <th>capacity</th>\n",
       "      <th>type</th>\n",
       "      <th>model_ref</th>\n",
       "      <th>hp</th>\n",
       "    </tr>\n",
       "  </thead>\n",
       "  <tbody>\n",
       "    <tr>\n",
       "      <th>0</th>\n",
       "      <td>AKERMANVOLVO</td>\n",
       "      <td>750</td>\n",
       "      <td>23.8</td>\n",
       "      <td>EXCAVATOR</td>\n",
       "      <td>750</td>\n",
       "      <td>NaN</td>\n",
       "    </tr>\n",
       "    <tr>\n",
       "      <th>1</th>\n",
       "      <td>AKERMANVOLVO</td>\n",
       "      <td>EC 130</td>\n",
       "      <td>13.0</td>\n",
       "      <td>EXCAVATOR</td>\n",
       "      <td>EC 130</td>\n",
       "      <td>NaN</td>\n",
       "    </tr>\n",
       "    <tr>\n",
       "      <th>2</th>\n",
       "      <td>AKERMANVOLVO</td>\n",
       "      <td>EC 130 C</td>\n",
       "      <td>13.7</td>\n",
       "      <td>EXCAVATOR</td>\n",
       "      <td>EC 130 C</td>\n",
       "      <td>NaN</td>\n",
       "    </tr>\n",
       "  </tbody>\n",
       "</table>\n",
       "</div>"
      ],
      "text/plain": [
       "          brand     model  capacity       type model_ref  hp\n",
       "0  AKERMANVOLVO       750      23.8  EXCAVATOR       750 NaN\n",
       "1  AKERMANVOLVO    EC 130      13.0  EXCAVATOR    EC 130 NaN\n",
       "2  AKERMANVOLVO  EC 130 C      13.7  EXCAVATOR  EC 130 C NaN"
      ]
     },
     "execution_count": 9,
     "metadata": {},
     "output_type": "execute_result"
    }
   ],
   "source": [
    "df_ref.head(3)"
   ]
  },
  {
   "cell_type": "markdown",
   "id": "0aa771f2-8ae2-46c9-ac5e-3725379f621a",
   "metadata": {},
   "source": [
    "**data_preperation(df, df_ref) definition**\n",
    "\n",
    "* input parameter\n",
    "    * Original dataframe\n",
    "    * reference dataframe\n",
    "* Output\n",
    "    * Creat a copy of **product description** to avoid the direct modification on original data;\n",
    "    * Remove the special characters, space and puntuations in product description."
   ]
  },
  {
   "cell_type": "code",
   "execution_count": 10,
   "id": "5cf7a735-bef3-4e18-8a8a-769d80aefee4",
   "metadata": {},
   "outputs": [],
   "source": [
    "data_preperation(df, df_ref)"
   ]
  },
  {
   "cell_type": "markdown",
   "id": "0d1fe5dd-890a-477f-b3d9-ab831feb1e4c",
   "metadata": {
    "tags": []
   },
   "source": [
    "# Matching the reference table\n",
    "\n",
    "Goal: mathcing the exsisted knowledge in the reference table to the processing data.\n",
    "\n",
    "**matching_program() definition:**\n",
    "* Input parameters (in order): original dataframe, reference table, file type ('crane' or 'excavator') \n",
    "* Output: processed dataframe; error indexes \n",
    "\n",
    "**What happened? and what's the standard? **\n",
    "\n",
    "**1. Mapping the existed knowledge in reference table to the original dataframe**\n",
    "* Check if any brand existed in product description column -> Mark: Brand in description; Only take the first brand if multipul brands existed\n",
    "* Check if any brand existed in supplier description column -> Mark: Brand in supplier; Only take the first brand if multiple brands existed\n",
    "* For rows with brands -> Searching the brand in reference table -> Check if the model existed in product description -> if only a single model match -> Mark: Fully match\n",
    "* For rows with brands -> Searching the brand in reference table -> Check if the model existed in product description -> if several models match, only take the longest model -> Mark: Multiple model matched, take the longest match\n",
    "* Nothing matched -> Mark: No match\n",
    "\n",
    "**2. Delete the irrelevant items**\n",
    "\n",
    "    Current statistics for irrelevant keywords include the following:\n",
    "\n",
    "    ['CARRIER', 'TELESCOPLADER', 'HARBOUR', 'OPEN SHEET', 'STACK', 'BOAT', 'BACKHOE', 'SKID', 'ROLLER', 'BENZ', 'TELEHANDLER', 'LOADER', 'FORK', 'PAVER', 'STACKER', 'MATERIAL HANDLER', 'BRIDGE', 'REACH', 'HANDER', 'GRABBER', GANTRY', 'BACK HOE', 'PORT', 'MERCEDES', 'VİNCE', 'SPIDER', 'PIPE', 'HANDLING', 'GLASS CRANE', 'LOAD', 'GRADER', 'GLASS CRANE', 'SPIDER']\n",
    "                   \n",
    "**3. Infer product type according to keywords in description**\n",
    "* Excavator:\n",
    "    * crawler excavator -> EXCAVATOR\n",
    "    * wheel **or** tire -> WHEEL EXCAVATOR\n",
    "    * AMPHIBIOUS -> AMPHIBIOUS EXCAVATOR\n",
    "    * without the above keywords -> UNKNOWN\n",
    "* Mobile Crane:\n",
    "    * Wheel **or** tire -> WHEELED CRANE\n",
    "    * rough -> ROUGH-TERRAIN CRANE\n",
    "    * crawler -> CRAWLER CRANE\n",
    "    * crawler **and** telescopic -> CRAWLER CRANE (TELESCOPIC_BOOM)\n",
    "    * without the above keywords -> UNKNOWN\n",
    "    \n",
    "**4. New or used unit judgement**\n",
    "* Contain the following keywords: ['USED', 'SECOND HAND', 'SECONDHAND', 'OLD', '2ND HAND', 'REFURBISH']\n",
    "* Contain a number ranging from 1950 to 2019\n",
    "\n",
    "    **Mark as used unit**\n",
    "\n",
    "**5. Parts**\n",
    "* Contain the following keywords: ['CKD', 'SKD', 'partial'] Mark as **‘Parts’**"
   ]
  },
  {
   "cell_type": "code",
   "execution_count": 11,
   "id": "23753c6b-04f9-4b07-b5fd-e75ce1726c06",
   "metadata": {},
   "outputs": [],
   "source": [
    "# input parameters: original dataframe, reference table, file type (fill in 'crane' or 'excavator')\n",
    "# output: df with matched info; error row index\n",
    "df, error_rows_index = matching_program(df, df_ref, file_type='excavator')"
   ]
  },
  {
   "cell_type": "code",
   "execution_count": 12,
   "id": "695dd128-28f1-4b46-869d-34f695c92afb",
   "metadata": {},
   "outputs": [
    {
     "data": {
      "text/plain": [
       "dict_keys([])"
      ]
     },
     "execution_count": 12,
     "metadata": {},
     "output_type": "execute_result"
    }
   ],
   "source": [
    "# check if contain error rows\n",
    "error_rows_index.keys()"
   ]
  },
  {
   "cell_type": "code",
   "execution_count": 13,
   "id": "85daa1fa-0669-4ee7-b8a7-5fa597e5abfd",
   "metadata": {},
   "outputs": [
    {
     "data": {
      "text/plain": [
       "Fully match                          636\n",
       "Brands existed but without models    101\n",
       "No match                              74\n",
       "Parts                                 21\n",
       "Name: remark, dtype: int64"
      ]
     },
     "execution_count": 13,
     "metadata": {},
     "output_type": "execute_result"
    }
   ],
   "source": [
    "# check the remarks\n",
    "df['remark'].value_counts()"
   ]
  },
  {
   "cell_type": "markdown",
   "id": "68b6fa21-9b85-4acf-baca-d551386bd519",
   "metadata": {},
   "source": [
    "# Matching with regular expression\n",
    "Goal: For data that is no labeled, labeling them by regular expression based on naming rules. "
   ]
  },
  {
   "cell_type": "code",
   "execution_count": 14,
   "id": "5852579b-82f4-4122-ad84-a03cb59b2d71",
   "metadata": {},
   "outputs": [],
   "source": [
    "# Load regex reference table\n",
    "df_regex = pd.read_excel('/Users/mingxu/Traymann/ZOOMLION/统计分析报告/8_印度尼西亚/土方/挖掘机/数据处理/数据对照表/Regex/20240527_土方REGEX对照表.xlsx',sheet_name='对照表')"
   ]
  },
  {
   "cell_type": "markdown",
   "id": "fdc829b7-2568-42da-b144-b37d252aeedf",
   "metadata": {},
   "source": [
    "**search_regex() definition**\n",
    "* Original dataframe\n",
    "* Filter condition(s)\n",
    "* Searching col\n",
    "* regex reference table\n",
    "* Filter brands or not **filter_brand=True/False**\n",
    "    * True: If the items has been flagged with brand, this function will **only search regexes within the flagged brand**\n",
    "    * False: Ignore the flagged brand and search through the whole reference table\n",
    "* Whether to mark working capacity (e.g. tonnage/max lift) **mark_load=True/False**\n",
    "    * True: mark\n",
    "    * False: ignore"
   ]
  },
  {
   "cell_type": "markdown",
   "id": "17f5ce84-3eca-4fa1-ba0d-623f3ae50768",
   "metadata": {},
   "source": [
    "_Here is an example of how the regex table looks like:_"
   ]
  },
  {
   "cell_type": "code",
   "execution_count": 15,
   "id": "74bcd46b-f594-4af1-bf6c-00bb3904d972",
   "metadata": {},
   "outputs": [
    {
     "data": {
      "text/html": [
       "<div>\n",
       "<style scoped>\n",
       "    .dataframe tbody tr th:only-of-type {\n",
       "        vertical-align: middle;\n",
       "    }\n",
       "\n",
       "    .dataframe tbody tr th {\n",
       "        vertical-align: top;\n",
       "    }\n",
       "\n",
       "    .dataframe thead th {\n",
       "        text-align: right;\n",
       "    }\n",
       "</style>\n",
       "<table border=\"1\" class=\"dataframe\">\n",
       "  <thead>\n",
       "    <tr style=\"text-align: right;\">\n",
       "      <th></th>\n",
       "      <th>brand</th>\n",
       "      <th>model_regex</th>\n",
       "      <th>capacity_regex</th>\n",
       "      <th>category</th>\n",
       "      <th>starting_point</th>\n",
       "    </tr>\n",
       "  </thead>\n",
       "  <tbody>\n",
       "    <tr>\n",
       "      <th>0</th>\n",
       "      <td>KOMATSU</td>\n",
       "      <td>PC ?\\d{2,3}-?[A-Z]{2}-\\d[A-Z]{0,2}</td>\n",
       "      <td>PC ?(\\d+)</td>\n",
       "      <td>EXCAVATOR</td>\n",
       "      <td>0</td>\n",
       "    </tr>\n",
       "    <tr>\n",
       "      <th>1</th>\n",
       "      <td>LIUGONG</td>\n",
       "      <td>C*L*G* *9\\d{2}[EFL][A-Z]{0,2}</td>\n",
       "      <td>(\\d+)</td>\n",
       "      <td>EXCAVATOR</td>\n",
       "      <td>-1</td>\n",
       "    </tr>\n",
       "    <tr>\n",
       "      <th>2</th>\n",
       "      <td>HITACHI</td>\n",
       "      <td>ZX\\d{2,3}[A-Z]{0,3}-[57]?GI?</td>\n",
       "      <td>ZX(\\d+)</td>\n",
       "      <td>EXCAVATOR</td>\n",
       "      <td>0</td>\n",
       "    </tr>\n",
       "  </tbody>\n",
       "</table>\n",
       "</div>"
      ],
      "text/plain": [
       "     brand                         model_regex capacity_regex   category  \\\n",
       "0  KOMATSU  PC ?\\d{2,3}-?[A-Z]{2}-\\d[A-Z]{0,2}      PC ?(\\d+)  EXCAVATOR   \n",
       "1  LIUGONG       C*L*G* *9\\d{2}[EFL][A-Z]{0,2}          (\\d+)  EXCAVATOR   \n",
       "2  HITACHI        ZX\\d{2,3}[A-Z]{0,3}-[57]?GI?        ZX(\\d+)  EXCAVATOR   \n",
       "\n",
       "   starting_point  \n",
       "0               0  \n",
       "1              -1  \n",
       "2               0  "
      ]
     },
     "execution_count": 15,
     "metadata": {},
     "output_type": "execute_result"
    }
   ],
   "source": [
    "df_regex.head(3)"
   ]
  },
  {
   "cell_type": "markdown",
   "id": "d96c1882-21e0-48c6-aeeb-bc6e0a4bb00c",
   "metadata": {},
   "source": [
    "The definition of the starting point:\n",
    "* 0: Mark the capacity with the numeric part divide by 10\n",
    "* 1: Mark the capacity with the numeric part start from the second number and divide by 10\n",
    "* 2: There is no relationship and do not mark\n",
    "* 3: Mart the capacity with the numeric part directly without calculation\n",
    "* -2: Mark the capacity with the numeric part start from the third number\n",
    "* -1: Mark the capacity with the numeric part start from the second number"
   ]
  },
  {
   "cell_type": "code",
   "execution_count": 16,
   "id": "0b65a247-a684-4078-9d90-e509be304ed1",
   "metadata": {},
   "outputs": [],
   "source": [
    "# Aim to have a second search for \"Brands existed but without models\" and \"No match\" items\n",
    "df = search_regex(df, df['remark'].isin(['Brands existed but without models']), 'description2', df_regex, filter_brand=True, mark_load=True)"
   ]
  },
  {
   "cell_type": "code",
   "execution_count": 17,
   "id": "7a8d8e64-7b77-40d8-affc-38dc5f19897e",
   "metadata": {},
   "outputs": [],
   "source": [
    "df = search_regex(df, df['remark'].isin(['No match']), 'description2', df_regex, filter_brand=False, mark_load=True)"
   ]
  },
  {
   "cell_type": "markdown",
   "id": "adde9bc2-194b-4e92-9dc2-374f00bf0655",
   "metadata": {},
   "source": [
    "**search_capacity() definition**\n",
    "* Original dataframe\n",
    "* Filter condition(s)\n",
    "* Searching col\n",
    "* regex"
   ]
  },
  {
   "cell_type": "markdown",
   "id": "a3fa34ff-1001-448a-9788-fd0d10da9719",
   "metadata": {},
   "source": [
    "Goal: Searching the pattern of **$number + (metric) \\ TONS$** in description, and mark the number as maximum lifting capacity\n",
    "\n",
    "This part of data will be marked as: _Description contains working capacity_"
   ]
  },
  {
   "cell_type": "code",
   "execution_count": 18,
   "id": "b1f69c91-f94b-4204-b486-cc8c7f423936",
   "metadata": {},
   "outputs": [],
   "source": [
    "condition = df['capacity']=='UNKNOWN'\n",
    "search_col = 'description2'\n",
    "capacity_regex = r'\\b(\\d+(?:\\.\\d+)?)\\s*(?:METRIC\\s*)?TONS?\\b'\n",
    "# (?:METRIC\\s*)?: Matches an optional 'METRIC' followed by optional whitespace characters. \n",
    "# The (?: ... ) is a non-capturing group.\n",
    "df = search_capacity(df, condition, search_col, capacity_regex)"
   ]
  },
  {
   "cell_type": "code",
   "execution_count": 19,
   "id": "342e85b3-592f-459c-a16c-eab35b4fa4ee",
   "metadata": {},
   "outputs": [
    {
     "data": {
      "text/plain": [
       "array(['JCB', 'XCMG', 'HENGWANG', 'LANDWORLD', 'LONKING'], dtype=object)"
      ]
     },
     "execution_count": 19,
     "metadata": {},
     "output_type": "execute_result"
    }
   ],
   "source": [
    "df.loc[df['remark'].isin(['Brands existed but without models']),'brand'].unique()"
   ]
  },
  {
   "cell_type": "code",
   "execution_count": 20,
   "id": "07b6bb53-2bb2-42ca-81a0-36eaca85f201",
   "metadata": {},
   "outputs": [
    {
     "data": {
      "text/plain": [
       "Fully match                                                   636\n",
       "Unique model match with regex                                  71\n",
       "No match                                                       44\n",
       "No brand in description, and unique model match with regex     24\n",
       "Parts                                                          21\n",
       "Brands existed but without models                              17\n",
       "Keep the longest from the multiple matched                     13\n",
       "Description contains working capacity                           6\n",
       "Name: remark, dtype: int64"
      ]
     },
     "execution_count": 20,
     "metadata": {},
     "output_type": "execute_result"
    }
   ],
   "source": [
    "df['remark'].value_counts()"
   ]
  },
  {
   "cell_type": "markdown",
   "id": "f0de727d-aca4-412d-b828-eb7992565848",
   "metadata": {},
   "source": [
    "If the lifting capacity is more than 300 tonnes, crawler crane can be judged as Lattice boom"
   ]
  },
  {
   "cell_type": "code",
   "execution_count": 21,
   "id": "c3304fc3-2a2f-4c67-8bd2-b5983f0e0573",
   "metadata": {},
   "outputs": [],
   "source": [
    "df['capacity'] = pd.to_numeric(df['capacity'], errors='coerce')\n",
    "# df.loc[(df['type'].isin(['CRAWLER CRANE']))&(df['capacity'].notna())&(df['capacity']>300),'type'] = 'CRAWLER CRANE (LATTICE_BOOM)'"
   ]
  },
  {
   "cell_type": "markdown",
   "id": "596964cb-2fd7-4679-b9f6-91ca127dbd35",
   "metadata": {},
   "source": [
    "Since CATERILLAR's naming rules is relatively simple and can easily be mislabeled by serial numbers, this issue should be  addressed separately."
   ]
  },
  {
   "cell_type": "code",
   "execution_count": 22,
   "id": "2215103b-01f3-4744-9327-d0e5a9e0e797",
   "metadata": {},
   "outputs": [
    {
     "data": {
      "text/plain": [
       "model    type             new/used  remark     \n",
       "320      EXCAVATOR        new       Fully match    36\n",
       "330 GC   EXCAVATOR        new       Fully match    10\n",
       "345 GC   EXCAVATOR        new       Fully match     6\n",
       "307      EXCAVATOR        new       Fully match     4\n",
       "313      EXCAVATOR        new       Fully match     4\n",
       "330      EXCAVATOR        new       Fully match     3\n",
       "340      EXCAVATOR        new       Fully match     2\n",
       "305      EXCAVATOR        new       Fully match     1\n",
       "305.5E2  EXCAVATOR        new       Fully match     1\n",
       "333      EXCAVATOR        new       Fully match     1\n",
       "336DL    EXCAVATOR        used      Fully match     1\n",
       "M320     WHEEL EXCAVATOR  new       Fully match     1\n",
       "dtype: int64"
      ]
     },
     "execution_count": 22,
     "metadata": {},
     "output_type": "execute_result"
    }
   ],
   "source": [
    "df.loc[df['brand']=='CATERPILLAR',['model','type','new/used','remark']].value_counts()"
   ]
  },
  {
   "cell_type": "code",
   "execution_count": 23,
   "id": "bdade5a8-27a0-4b0e-a58e-89fb8b4a5f2e",
   "metadata": {},
   "outputs": [],
   "source": [
    "cat_regex = pd.read_excel('/Users/mingxu/Traymann/ZOOMLION/数据对照表/20240312_土方CAT_REGEX对照表.xlsx',sheet_name='Sheet1')"
   ]
  },
  {
   "cell_type": "code",
   "execution_count": 24,
   "id": "f5d07e8a-813d-4b7c-bf3e-c4adea458032",
   "metadata": {},
   "outputs": [],
   "source": [
    "df = search_regex(df, (df['brand']=='CATERPILLAR')&(df['model']=='UNKNOWN'), 'description2', cat_regex, filter_brand=True, mark_load=True)"
   ]
  },
  {
   "cell_type": "code",
   "execution_count": 25,
   "id": "ebbe74b2-7212-4565-875c-255c41c3897b",
   "metadata": {},
   "outputs": [
    {
     "data": {
      "text/plain": [
       "Fully match                                                   636\n",
       "Unique model match with regex                                  71\n",
       "No match                                                       44\n",
       "No brand in description, and unique model match with regex     24\n",
       "Parts                                                          21\n",
       "Brands existed but without models                              17\n",
       "Keep the longest from the multiple matched                     13\n",
       "Description contains working capacity                           6\n",
       "Name: remark, dtype: int64"
      ]
     },
     "execution_count": 25,
     "metadata": {},
     "output_type": "execute_result"
    }
   ],
   "source": [
    "df['remark'].value_counts()"
   ]
  },
  {
   "cell_type": "markdown",
   "id": "2ccbe093-e238-4927-b2fd-f8ee93316cb1",
   "metadata": {
    "tags": []
   },
   "source": [
    "# Infer and label the items with existed information\n",
    "\n",
    "In this section, I will use the labeled items which with the crucial information of ['brand','model','capacity','type'], such as _item A_ to inference the missing info of _item B_. \n",
    "\n",
    "Condition: If item A's brand and type are consistent to item B, and its capacity is within the range of ±5% of that of item B.\n",
    "\n",
    "For instance: A contains all information. B's working capacity is infered from the description via search the patter of number + tons. This function will take ±5% as a threshold, and if A's capacity just fall in this range, then I will label B's model by A.\n",
    "\n",
    "| item | brand | model | capacity | type |\n",
    "|------|------|------|------|------|\n",
    "| A    | ✓    | ✓    | ✓    | ✓    |\n",
    "| B    | ✓    | ✘    | ✓    | ✓    |"
   ]
  },
  {
   "cell_type": "code",
   "execution_count": 26,
   "id": "5ad545f9-65ba-454c-8ef0-4b39cac3857b",
   "metadata": {},
   "outputs": [],
   "source": [
    "df = mark_unknown_model_with_exsisted_lifting_capacity(df)"
   ]
  },
  {
   "cell_type": "code",
   "execution_count": 27,
   "id": "9f8a6787-cde3-4b52-a02f-d0111c3285ca",
   "metadata": {},
   "outputs": [
    {
     "name": "stdout",
     "output_type": "stream",
     "text": [
      "No match items amount: $ 11836788.2\n",
      "No match items qty: 177 units\n"
     ]
    }
   ],
   "source": [
    "# Calculate the amount and quantity of no matched items\n",
    "unlabeled_value = round(df.loc[df['remark'] == 'No match','amount in usd'].sum(),1)\n",
    "unlabeled_qty = df.loc[df['remark'] == 'No match','qty'].sum()\n",
    "print(f'No match items amount: $ {round(unlabeled_value,2)}')\n",
    "print(f'No match items qty: {unlabeled_qty} units')"
   ]
  },
  {
   "cell_type": "markdown",
   "id": "d3757794-5f7c-4a12-8090-df79a813fc93",
   "metadata": {},
   "source": [
    "# Mark the outliers"
   ]
  },
  {
   "cell_type": "markdown",
   "id": "2ac589f3-83d0-4722-ab08-12aedcc96760",
   "metadata": {},
   "source": [
    "Check if N/A value contains"
   ]
  },
  {
   "cell_type": "code",
   "execution_count": 28,
   "id": "361685dc-63c1-4156-89f3-91e7d9da64e9",
   "metadata": {},
   "outputs": [
    {
     "data": {
      "text/plain": [
       "183"
      ]
     },
     "execution_count": 28,
     "metadata": {},
     "output_type": "execute_result"
    }
   ],
   "source": [
    "df['unit weight in ton'].isna().sum()"
   ]
  },
  {
   "cell_type": "markdown",
   "id": "d1fe45b1-1399-4720-9333-f85b7eb2a40e",
   "metadata": {},
   "source": [
    "**mark_outliers(df, term=True) definition**\n",
    "* Input paramter:\n",
    "    * original dataframe\n",
    "    * term: choose from **True/False**; Note: If the data contains shipping terms, true could be filled, and make sure there is a column \"term\" in dataframe\n",
    "        * True: The outlier judgment will be based on the brand, model, and terms as the filtering conditions, and the **median price** in the case that the above three marks are satisfied at the same time will be taken as the reference standard;\n",
    "        * False：If the original dataframe does not contain terms, fill in false will ignore terms and **will only take the median price under the same brand and model** according to the above criteria.\n",
    "\n",
    "**Goal:** Find out the outlier items for further price analysis\n",
    "\n",
    "**Price outlier judgement criteria:**\n",
    "\n",
    "Calculate the median price of models under the same brand, if trade terms exist, make a judgment under the same trade terms\n",
    "* Unknown: unknown model, used machine;\n",
    "* Normal: item prices within median ± median*20%;\n",
    "* Outlier: prices outside the aforementioned threshold."
   ]
  },
  {
   "cell_type": "code",
   "execution_count": 29,
   "id": "338b7a2f-109f-41e7-bdfd-ac4cbd2b6979",
   "metadata": {},
   "outputs": [],
   "source": [
    "df = mark_outliers(df, term=False)"
   ]
  },
  {
   "cell_type": "markdown",
   "id": "6d1c1066-8c9c-4a0d-b982-c64012cb6ddf",
   "metadata": {
    "tags": []
   },
   "source": [
    "# Working capacity interval division\n",
    "**define_load_interval(df, file_type, load_interval)**\n",
    "\n",
    "Input parameters:\n",
    "\n",
    "* Original dataframe\n",
    "* File_type: should fill in **crane** or **excavator**; Notice: the interval definition differs from file types\n",
    "* Define the load interval\n",
    "   * For example: define the interval as the specified number. If fill in 50, I will return ≤50T, 50-100T, 100-150T, and so forth."
   ]
  },
  {
   "cell_type": "markdown",
   "id": "661b53c0-3aec-4cb3-8359-0d77ce82db43",
   "metadata": {},
   "source": [
    "**Mobile crane**\n",
    "\n",
    "* There are cases where the lifting capacity is much larger than the self-weight of the equipment itself, and it varies from types, so it can't speculate by the weight of the equipment itself;\n",
    "* Will only mark the interval of items that are labeled with lifting capacity.\n",
    "    \n",
    "    \n",
    "**Excavator**\n",
    "\n",
    "The work load of excavator is almost identical to the weight of itself, and for unknown items will be divided by weight\n",
    "* Define the interval of known items\n",
    "* Define the interval of unknown items by weight"
   ]
  },
  {
   "cell_type": "code",
   "execution_count": 30,
   "id": "cd746d5f-4149-44a0-bf97-5161a8932661",
   "metadata": {},
   "outputs": [],
   "source": [
    "define_load_interval(df, file_type = 'excavator', load_interval = 10)"
   ]
  },
  {
   "cell_type": "code",
   "execution_count": 31,
   "id": "87b3aadb-cc61-4a92-a7d5-7b69f70b0ab2",
   "metadata": {},
   "outputs": [],
   "source": [
    "define_excavator_load_type_interval(df)"
   ]
  },
  {
   "cell_type": "code",
   "execution_count": 32,
   "id": "ce225667-b0a5-4102-9697-b687b5a60e00",
   "metadata": {},
   "outputs": [
    {
     "data": {
      "text/plain": [
       "10-30T     344\n",
       "5-10T      188\n",
       "30-70T     139\n",
       "<5T        137\n",
       "≥90T        12\n",
       "70-90T       6\n",
       "UNKNOWN      6\n",
       "Name: type interval, dtype: int64"
      ]
     },
     "execution_count": 32,
     "metadata": {},
     "output_type": "execute_result"
    }
   ],
   "source": [
    "df['type interval'].value_counts()"
   ]
  },
  {
   "cell_type": "code",
   "execution_count": 33,
   "id": "2112f569-8c56-428b-8293-f5be59801ebb",
   "metadata": {},
   "outputs": [
    {
     "data": {
      "text/plain": [
       "20-30T      256\n",
       "5-10T       188\n",
       "<5T         137\n",
       "30-40T       94\n",
       "10-20T       88\n",
       "40-50T       36\n",
       "100-110T      9\n",
       "50-60T        8\n",
       "70-80T        5\n",
       "UNKNOWN       3\n",
       "120-130T      2\n",
       "200-210T      1\n",
       "80-90T        1\n",
       "60-70T        1\n",
       "Name: capacity interval, dtype: int64"
      ]
     },
     "execution_count": 33,
     "metadata": {},
     "output_type": "execute_result"
    }
   ],
   "source": [
    "df['capacity interval'].value_counts()"
   ]
  },
  {
   "cell_type": "code",
   "execution_count": 34,
   "id": "41fa2c58-2c1a-4a64-b471-e7768c25bf8e",
   "metadata": {},
   "outputs": [],
   "source": [
    "df['type interval'] = df['type interval'].fillna('UNKNOWN')\n",
    "df['capacity interval'] = df['capacity interval'].fillna('UNKNOWN')"
   ]
  },
  {
   "cell_type": "markdown",
   "id": "9848aef5-6711-4d8d-aa06-b41537091023",
   "metadata": {},
   "source": [
    "# Exchange rate conversion\n",
    "\n",
    "**convert_usd_to_cny(df, rate_dict)**\n",
    "\n",
    "Input parameters:\n",
    "* Original dataframe: make sure ['date', 'price in usd', 'amount in usd'] columns are in dataframe\n",
    "* Exchange rate dictionary: a dictionary file, and should fill in the latest USD-CNY rate to \"rate_dict\". Historical data will be calculated automatically based on the date."
   ]
  },
  {
   "cell_type": "code",
   "execution_count": 35,
   "id": "42b78976-45cd-44a0-bdcf-ee27248fa51a",
   "metadata": {},
   "outputs": [],
   "source": [
    "rate_dict = {2023: {1: 6.7604, 2: 6.9519, 3: 6.8717, 4: 6.924, 5: 7.0821, 6: 7.2258, 7: 7.1305, 8: 7.1811, 9: 7.1798, 10: 7.1779, 11: 7.1018, 12: 7.0827},\n",
    "             2024: {1: 7.1039, 2: 7.1036, 3: 7.0950, 4:7.1063, 5:7.1088, 6:7.1268, 7: 7.1346}}\n",
    "\n",
    "df = convert_usd_to_cny(df, rate_dict)"
   ]
  },
  {
   "cell_type": "code",
   "execution_count": 36,
   "id": "2b660c60-b457-4e79-b9b8-ea5e9edc8a6c",
   "metadata": {},
   "outputs": [],
   "source": [
    "# remove the extra marks\n",
    "df['model'] = df['model'].apply(lambda x: x.replace(' ',''))\n",
    "df['model'] = df['model'].apply(lambda x: x.lstrip())\n",
    "df['model'] = df['model'].apply(lambda x: x.rstrip())"
   ]
  },
  {
   "cell_type": "markdown",
   "id": "de49ee4d-7f69-4af6-95d3-fcbde47473b2",
   "metadata": {},
   "source": [
    "# Data Analysis"
   ]
  },
  {
   "cell_type": "markdown",
   "id": "08d6b99b-472b-4b39-ba80-3103a49d37da",
   "metadata": {},
   "source": [
    "Import analysis functions"
   ]
  },
  {
   "cell_type": "code",
   "execution_count": 37,
   "id": "0c290047-9ed4-48c2-8c92-cc490ce00afb",
   "metadata": {},
   "outputs": [],
   "source": [
    "from data_processing_program_20240520 import key_players_table, show_key_palyers, key_capacity_interval, top3_players"
   ]
  },
  {
   "cell_type": "markdown",
   "id": "0f13ffec-2e5d-4f83-8fa2-f26875c6f7e1",
   "metadata": {},
   "source": [
    "## Key players in the market"
   ]
  },
  {
   "cell_type": "code",
   "execution_count": 38,
   "id": "78ff25e7-665c-41ea-954e-01aaa1b4dad5",
   "metadata": {},
   "outputs": [
    {
     "data": {
      "text/html": [
       "<div>\n",
       "<style scoped>\n",
       "    .dataframe tbody tr th:only-of-type {\n",
       "        vertical-align: middle;\n",
       "    }\n",
       "\n",
       "    .dataframe tbody tr th {\n",
       "        vertical-align: top;\n",
       "    }\n",
       "\n",
       "    .dataframe thead th {\n",
       "        text-align: right;\n",
       "    }\n",
       "</style>\n",
       "<table border=\"1\" class=\"dataframe\">\n",
       "  <thead>\n",
       "    <tr style=\"text-align: right;\">\n",
       "      <th></th>\n",
       "      <th>Brand</th>\n",
       "      <th>Amount $</th>\n",
       "      <th>Units #</th>\n",
       "      <th>Amount %</th>\n",
       "      <th>Unit %</th>\n",
       "    </tr>\n",
       "  </thead>\n",
       "  <tbody>\n",
       "    <tr>\n",
       "      <th>0</th>\n",
       "      <td>SANY</td>\n",
       "      <td>52.2 M</td>\n",
       "      <td>798</td>\n",
       "      <td>27.4%</td>\n",
       "      <td>29.1%</td>\n",
       "    </tr>\n",
       "    <tr>\n",
       "      <th>1</th>\n",
       "      <td>KOMATSU</td>\n",
       "      <td>30.8 M</td>\n",
       "      <td>396</td>\n",
       "      <td>16.2%</td>\n",
       "      <td>14.5%</td>\n",
       "    </tr>\n",
       "    <tr>\n",
       "      <th>2</th>\n",
       "      <td>KOBELCO</td>\n",
       "      <td>17.4 M</td>\n",
       "      <td>314</td>\n",
       "      <td>9.1%</td>\n",
       "      <td>11.5%</td>\n",
       "    </tr>\n",
       "    <tr>\n",
       "      <th>3</th>\n",
       "      <td>LIUGONG</td>\n",
       "      <td>12.7 M</td>\n",
       "      <td>235</td>\n",
       "      <td>6.7%</td>\n",
       "      <td>8.6%</td>\n",
       "    </tr>\n",
       "    <tr>\n",
       "      <th>4</th>\n",
       "      <td>LIEBHERR</td>\n",
       "      <td>10.2 M</td>\n",
       "      <td>7</td>\n",
       "      <td>5.3%</td>\n",
       "      <td>0.3%</td>\n",
       "    </tr>\n",
       "    <tr>\n",
       "      <th>5</th>\n",
       "      <td>CATERPILLAR</td>\n",
       "      <td>8.6 M</td>\n",
       "      <td>70</td>\n",
       "      <td>4.5%</td>\n",
       "      <td>2.6%</td>\n",
       "    </tr>\n",
       "    <tr>\n",
       "      <th>6</th>\n",
       "      <td>ZOOMLION</td>\n",
       "      <td>7.6 M</td>\n",
       "      <td>80</td>\n",
       "      <td>4.0%</td>\n",
       "      <td>2.9%</td>\n",
       "    </tr>\n",
       "    <tr>\n",
       "      <th>7</th>\n",
       "      <td>HYUNDAI</td>\n",
       "      <td>7.0 M</td>\n",
       "      <td>98</td>\n",
       "      <td>3.7%</td>\n",
       "      <td>3.6%</td>\n",
       "    </tr>\n",
       "    <tr>\n",
       "      <th>8</th>\n",
       "      <td>OTHERS</td>\n",
       "      <td>31.6 M</td>\n",
       "      <td>544</td>\n",
       "      <td>16.6%</td>\n",
       "      <td>19.9%</td>\n",
       "    </tr>\n",
       "    <tr>\n",
       "      <th>9</th>\n",
       "      <td>UNKNOWN</td>\n",
       "      <td>12.4 M</td>\n",
       "      <td>198</td>\n",
       "      <td>6.5%</td>\n",
       "      <td>7.2%</td>\n",
       "    </tr>\n",
       "  </tbody>\n",
       "</table>\n",
       "</div>"
      ],
      "text/plain": [
       "         Brand Amount $  Units # Amount % Unit %\n",
       "0         SANY   52.2 M      798    27.4%  29.1%\n",
       "1      KOMATSU   30.8 M      396    16.2%  14.5%\n",
       "2      KOBELCO   17.4 M      314     9.1%  11.5%\n",
       "3      LIUGONG   12.7 M      235     6.7%   8.6%\n",
       "4     LIEBHERR   10.2 M        7     5.3%   0.3%\n",
       "5  CATERPILLAR    8.6 M       70     4.5%   2.6%\n",
       "6     ZOOMLION    7.6 M       80     4.0%   2.9%\n",
       "7      HYUNDAI    7.0 M       98     3.7%   3.6%\n",
       "8       OTHERS   31.6 M      544    16.6%  19.9%\n",
       "9      UNKNOWN   12.4 M      198     6.5%   7.2%"
      ]
     },
     "execution_count": 38,
     "metadata": {},
     "output_type": "execute_result"
    }
   ],
   "source": [
    "df_keyplayer = key_players_table(df)\n",
    "df_keyplayer"
   ]
  },
  {
   "cell_type": "code",
   "execution_count": 42,
   "id": "fb3a2fcf-0516-4fa5-bedc-759977989f5b",
   "metadata": {},
   "outputs": [
    {
     "data": {
      "image/png": "[encoded data removed]",
      "text/plain": [
       "<Figure size 480x480 with 1 Axes>"
      ]
     },
     "metadata": {},
     "output_type": "display_data"
    }
   ],
   "source": [
    "show_key_players(df_keyplayer)"
   ]
  },
  {
   "cell_type": "markdown",
   "id": "4abec583-4e7f-4b57-8ec5-8a56e1e87306",
   "metadata": {},
   "source": [
    "## Main sale intervals"
   ]
  },
  {
   "cell_type": "code",
   "execution_count": 43,
   "id": "caeb5277-07d5-4d7b-9a7f-02be97a94402",
   "metadata": {},
   "outputs": [
    {
     "data": {
      "text/html": [
       "<div>\n",
       "<style scoped>\n",
       "    .dataframe tbody tr th:only-of-type {\n",
       "        vertical-align: middle;\n",
       "    }\n",
       "\n",
       "    .dataframe tbody tr th {\n",
       "        vertical-align: top;\n",
       "    }\n",
       "\n",
       "    .dataframe thead th {\n",
       "        text-align: right;\n",
       "    }\n",
       "</style>\n",
       "<table border=\"1\" class=\"dataframe\">\n",
       "  <thead>\n",
       "    <tr style=\"text-align: right;\">\n",
       "      <th></th>\n",
       "      <th>Capacity</th>\n",
       "      <th>Amount $</th>\n",
       "      <th>Units #</th>\n",
       "      <th>Amount %</th>\n",
       "      <th>Unit %</th>\n",
       "    </tr>\n",
       "  </thead>\n",
       "  <tbody>\n",
       "    <tr>\n",
       "      <th>0</th>\n",
       "      <td>20-30T</td>\n",
       "      <td>72.0 M</td>\n",
       "      <td>1104</td>\n",
       "      <td>37.8%</td>\n",
       "      <td>40.3%</td>\n",
       "    </tr>\n",
       "    <tr>\n",
       "      <th>1</th>\n",
       "      <td>30-40T</td>\n",
       "      <td>35.9 M</td>\n",
       "      <td>303</td>\n",
       "      <td>18.9%</td>\n",
       "      <td>11.1%</td>\n",
       "    </tr>\n",
       "    <tr>\n",
       "      <th>2</th>\n",
       "      <td>5-10T</td>\n",
       "      <td>22.6 M</td>\n",
       "      <td>720</td>\n",
       "      <td>11.9%</td>\n",
       "      <td>26.3%</td>\n",
       "    </tr>\n",
       "    <tr>\n",
       "      <th>3</th>\n",
       "      <td>100-110T</td>\n",
       "      <td>13.4 M</td>\n",
       "      <td>14</td>\n",
       "      <td>7.0%</td>\n",
       "      <td>0.5%</td>\n",
       "    </tr>\n",
       "    <tr>\n",
       "      <th>4</th>\n",
       "      <td>10-20T</td>\n",
       "      <td>11.1 M</td>\n",
       "      <td>199</td>\n",
       "      <td>5.8%</td>\n",
       "      <td>7.3%</td>\n",
       "    </tr>\n",
       "    <tr>\n",
       "      <th>5</th>\n",
       "      <td>50-60T</td>\n",
       "      <td>9.5 M</td>\n",
       "      <td>53</td>\n",
       "      <td>5.0%</td>\n",
       "      <td>1.9%</td>\n",
       "    </tr>\n",
       "    <tr>\n",
       "      <th>6</th>\n",
       "      <td>40-50T</td>\n",
       "      <td>8.4 M</td>\n",
       "      <td>39</td>\n",
       "      <td>4.4%</td>\n",
       "      <td>1.4%</td>\n",
       "    </tr>\n",
       "    <tr>\n",
       "      <th>7</th>\n",
       "      <td>&lt;5T</td>\n",
       "      <td>7.3 M</td>\n",
       "      <td>266</td>\n",
       "      <td>3.8%</td>\n",
       "      <td>9.7%</td>\n",
       "    </tr>\n",
       "    <tr>\n",
       "      <th>8</th>\n",
       "      <td>70-80T</td>\n",
       "      <td>3.5 M</td>\n",
       "      <td>10</td>\n",
       "      <td>1.9%</td>\n",
       "      <td>0.4%</td>\n",
       "    </tr>\n",
       "    <tr>\n",
       "      <th>9</th>\n",
       "      <td>200-210T</td>\n",
       "      <td>3.0 M</td>\n",
       "      <td>1</td>\n",
       "      <td>1.6%</td>\n",
       "      <td>0.0%</td>\n",
       "    </tr>\n",
       "    <tr>\n",
       "      <th>10</th>\n",
       "      <td>120-130T</td>\n",
       "      <td>2.0 M</td>\n",
       "      <td>3</td>\n",
       "      <td>1.1%</td>\n",
       "      <td>0.1%</td>\n",
       "    </tr>\n",
       "    <tr>\n",
       "      <th>11</th>\n",
       "      <td>60-70T</td>\n",
       "      <td>0.9 M</td>\n",
       "      <td>4</td>\n",
       "      <td>0.4%</td>\n",
       "      <td>0.1%</td>\n",
       "    </tr>\n",
       "    <tr>\n",
       "      <th>12</th>\n",
       "      <td>80-90T</td>\n",
       "      <td>0.3 M</td>\n",
       "      <td>1</td>\n",
       "      <td>0.2%</td>\n",
       "      <td>0.0%</td>\n",
       "    </tr>\n",
       "    <tr>\n",
       "      <th>13</th>\n",
       "      <td>UNKNOWN</td>\n",
       "      <td>0.5 M</td>\n",
       "      <td>23</td>\n",
       "      <td>0.2%</td>\n",
       "      <td>0.8%</td>\n",
       "    </tr>\n",
       "  </tbody>\n",
       "</table>\n",
       "</div>"
      ],
      "text/plain": [
       "    Capacity Amount $  Units # Amount % Unit %\n",
       "0     20-30T   72.0 M     1104    37.8%  40.3%\n",
       "1     30-40T   35.9 M      303    18.9%  11.1%\n",
       "2      5-10T   22.6 M      720    11.9%  26.3%\n",
       "3   100-110T   13.4 M       14     7.0%   0.5%\n",
       "4     10-20T   11.1 M      199     5.8%   7.3%\n",
       "5     50-60T    9.5 M       53     5.0%   1.9%\n",
       "6     40-50T    8.4 M       39     4.4%   1.4%\n",
       "7        <5T    7.3 M      266     3.8%   9.7%\n",
       "8     70-80T    3.5 M       10     1.9%   0.4%\n",
       "9   200-210T    3.0 M        1     1.6%   0.0%\n",
       "10  120-130T    2.0 M        3     1.1%   0.1%\n",
       "11    60-70T    0.9 M        4     0.4%   0.1%\n",
       "12    80-90T    0.3 M        1     0.2%   0.0%\n",
       "13   UNKNOWN    0.5 M       23     0.2%   0.8%"
      ]
     },
     "execution_count": 43,
     "metadata": {},
     "output_type": "execute_result"
    }
   ],
   "source": [
    "key_capacity_interval(df)"
   ]
  },
  {
   "cell_type": "markdown",
   "id": "ccb9c70d-6cb6-4b3b-b936-49aaf29799f2",
   "metadata": {},
   "source": [
    "## Top 3 players"
   ]
  },
  {
   "cell_type": "code",
   "execution_count": 45,
   "id": "36f4ae91-98bf-4921-a2c2-e105a24ee51c",
   "metadata": {},
   "outputs": [
    {
     "data": {
      "text/html": [
       "<div>\n",
       "<style scoped>\n",
       "    .dataframe tbody tr th:only-of-type {\n",
       "        vertical-align: middle;\n",
       "    }\n",
       "\n",
       "    .dataframe tbody tr th {\n",
       "        vertical-align: top;\n",
       "    }\n",
       "\n",
       "    .dataframe thead th {\n",
       "        text-align: right;\n",
       "    }\n",
       "</style>\n",
       "<table border=\"1\" class=\"dataframe\">\n",
       "  <thead>\n",
       "    <tr style=\"text-align: right;\">\n",
       "      <th></th>\n",
       "      <th>Brand</th>\n",
       "      <th>Amount $</th>\n",
       "      <th>Units #</th>\n",
       "      <th>Amount %</th>\n",
       "      <th>Unit %</th>\n",
       "    </tr>\n",
       "  </thead>\n",
       "  <tbody>\n",
       "    <tr>\n",
       "      <th>0</th>\n",
       "      <td>SANY</td>\n",
       "      <td>52.2 M</td>\n",
       "      <td>798</td>\n",
       "      <td>27.4%</td>\n",
       "      <td>29.1%</td>\n",
       "    </tr>\n",
       "    <tr>\n",
       "      <th>1</th>\n",
       "      <td>KOMATSU</td>\n",
       "      <td>30.8 M</td>\n",
       "      <td>396</td>\n",
       "      <td>16.2%</td>\n",
       "      <td>14.5%</td>\n",
       "    </tr>\n",
       "    <tr>\n",
       "      <th>2</th>\n",
       "      <td>KOBELCO</td>\n",
       "      <td>17.4 M</td>\n",
       "      <td>314</td>\n",
       "      <td>9.1%</td>\n",
       "      <td>11.5%</td>\n",
       "    </tr>\n",
       "  </tbody>\n",
       "</table>\n",
       "</div>"
      ],
      "text/plain": [
       "     Brand Amount $  Units # Amount % Unit %\n",
       "0     SANY   52.2 M      798    27.4%  29.1%\n",
       "1  KOMATSU   30.8 M      396    16.2%  14.5%\n",
       "2  KOBELCO   17.4 M      314     9.1%  11.5%"
      ]
     },
     "execution_count": 45,
     "metadata": {},
     "output_type": "execute_result"
    }
   ],
   "source": [
    "top3_players(df)"
   ]
  },
  {
   "cell_type": "markdown",
   "id": "45c7bf77-bd70-400b-a09d-f98831504af1",
   "metadata": {},
   "source": [
    "**The code below only use for mobile crane data processing**\n",
    "* Merge the tranlation to dataframe"
   ]
  },
  {
   "cell_type": "code",
   "execution_count": null,
   "id": "3da4ccea-7b5a-4e6a-a033-ea8a50190aee",
   "metadata": {},
   "outputs": [],
   "source": [
    "# EN_CN = pd.read_excel('/Users/mingxu/Traymann/ZOOMLION/数据对照表/工起类型分类对照表.xlsx',sheet_name='Sheet1')"
   ]
  },
  {
   "cell_type": "code",
   "execution_count": null,
   "id": "7dcc410b-c4e1-4510-93be-b64d57457caf",
   "metadata": {},
   "outputs": [],
   "source": [
    "# df = pd.merge(df, EN_CN, how='left', on='类型')"
   ]
  },
  {
   "cell_type": "markdown",
   "id": "1f50d692-d1ba-476f-9917-6f98aebd9ec7",
   "metadata": {},
   "source": [
    "Save the file"
   ]
  },
  {
   "cell_type": "code",
   "execution_count": null,
   "id": "2d07d492-a988-4680-aa63-1cc87b9d5a63",
   "metadata": {},
   "outputs": [],
   "source": [
    "# df.to_excel('/Users/mingxu/Traymann/ZOOMLION/统计分析报告/8_印度尼西亚/土方/挖掘机/数据处理/2024年一季度印尼挖掘机进口数据_已清理和异常判断.xlsx', sheet_name='Sheet1', index=False)"
   ]
  },
  {
   "cell_type": "markdown",
   "id": "c285aefa-6ed3-4792-a92a-edefd6b2c9aa",
   "metadata": {},
   "source": [
    "# Update historical data\n",
    "\n",
    "Concatenate the historical to the latest.\n",
    "* Make sure the processing logic are aligned;\n",
    "* Make sure the column names of both dataframes are identical."
   ]
  },
  {
   "cell_type": "code",
   "execution_count": 70,
   "id": "375c3f7b-54ab-44a7-ae52-dd07b46b2dfe",
   "metadata": {},
   "outputs": [],
   "source": [
    "df_hist = pd.read_excel('/Users/mingxu/Traymann/ZOOMLION/统计分析报告/8_印度尼西亚/土方/挖掘机/2022年8-2024年4月印尼挖掘机进口数据_已清理及异常判断.xlsx',sheet_name='Sheet1')"
   ]
  },
  {
   "cell_type": "markdown",
   "id": "35da3ea2-f5a5-4310-935f-fb25479c5ac8",
   "metadata": {},
   "source": [
    "**check_col_names(df.columns, df_hist.columns)**\n",
    "\n",
    "Check the identity\n",
    "\n",
    "Check that the column names of the merged tables are consistent, with ORIGINAL on the left and REFERENCE on the right; as long as it is satisfied that the column names of one of the files are a subset of another file"
   ]
  },
  {
   "cell_type": "code",
   "execution_count": 77,
   "id": "65dccfab-219d-4ec7-9eae-2f117f688b03",
   "metadata": {},
   "outputs": [
    {
     "name": "stdout",
     "output_type": "stream",
     "text": [
      "Columns in the reference df but not in original: {'hp', 'datasource', 'weight'}\n"
     ]
    }
   ],
   "source": [
    "check_col_names(df.columns, df_hist.columns)"
   ]
  },
  {
   "cell_type": "markdown",
   "id": "2487088a-8ffc-456b-b958-99fd9ba0c5d1",
   "metadata": {},
   "source": [
    "Concatenate historical data"
   ]
  },
  {
   "cell_type": "code",
   "execution_count": 78,
   "id": "f5864791-8c99-483d-bea3-24c9aaba32de",
   "metadata": {},
   "outputs": [],
   "source": [
    "df_updated = pd.concat([df_hist, df], axis=0, ignore_index=True)"
   ]
  },
  {
   "cell_type": "code",
   "execution_count": 79,
   "id": "131d0db4-3e7e-4307-980a-887608e1d93a",
   "metadata": {},
   "outputs": [],
   "source": [
    "df_updated['model'] = df_updated['model'].apply(lambda x: x.replace(' ',''))\n",
    "df_updated['model'] = df_updated['model'].apply(lambda x: x.lstrip())\n",
    "df_updated['model'] = df_updated['model'].apply(lambda x: x.rstrip())"
   ]
  },
  {
   "cell_type": "code",
   "execution_count": 97,
   "id": "92131168-aaf1-445d-a836-6c04d246027c",
   "metadata": {},
   "outputs": [],
   "source": [
    "# Save file\n",
    "df_updated.to_excel('/Users/mingxu/Downloads/Indonesia_excavator_2022_2024.07.xlsx',sheet_name='Sheet1',index=False)"
   ]
  },
  {
   "cell_type": "markdown",
   "id": "957332ab-803a-4f9c-b6cf-4e182f711518",
   "metadata": {},
   "source": [
    "## A glance of 2024"
   ]
  },
  {
   "cell_type": "code",
   "execution_count": 47,
   "id": "ee6b3716-6430-4557-bc96-2a4a04a86625",
   "metadata": {},
   "outputs": [
    {
     "data": {
      "text/html": [
       "<div>\n",
       "<style scoped>\n",
       "    .dataframe tbody tr th:only-of-type {\n",
       "        vertical-align: middle;\n",
       "    }\n",
       "\n",
       "    .dataframe tbody tr th {\n",
       "        vertical-align: top;\n",
       "    }\n",
       "\n",
       "    .dataframe thead th {\n",
       "        text-align: right;\n",
       "    }\n",
       "</style>\n",
       "<table border=\"1\" class=\"dataframe\">\n",
       "  <thead>\n",
       "    <tr style=\"text-align: right;\">\n",
       "      <th></th>\n",
       "      <th>Brand</th>\n",
       "      <th>Amount $</th>\n",
       "      <th>Units #</th>\n",
       "      <th>Amount %</th>\n",
       "      <th>Unit %</th>\n",
       "    </tr>\n",
       "  </thead>\n",
       "  <tbody>\n",
       "    <tr>\n",
       "      <th>0</th>\n",
       "      <td>SANY</td>\n",
       "      <td>140.4 M</td>\n",
       "      <td>2104</td>\n",
       "      <td>32.5%</td>\n",
       "      <td>32.4%</td>\n",
       "    </tr>\n",
       "    <tr>\n",
       "      <th>1</th>\n",
       "      <td>KOMATSU</td>\n",
       "      <td>64.8 M</td>\n",
       "      <td>732</td>\n",
       "      <td>15.0%</td>\n",
       "      <td>11.3%</td>\n",
       "    </tr>\n",
       "    <tr>\n",
       "      <th>2</th>\n",
       "      <td>KOBELCO</td>\n",
       "      <td>38.1 M</td>\n",
       "      <td>643</td>\n",
       "      <td>8.8%</td>\n",
       "      <td>9.9%</td>\n",
       "    </tr>\n",
       "    <tr>\n",
       "      <th>3</th>\n",
       "      <td>CATERPILLAR</td>\n",
       "      <td>20.5 M</td>\n",
       "      <td>150</td>\n",
       "      <td>4.7%</td>\n",
       "      <td>2.3%</td>\n",
       "    </tr>\n",
       "    <tr>\n",
       "      <th>4</th>\n",
       "      <td>LIUGONG</td>\n",
       "      <td>17.7 M</td>\n",
       "      <td>337</td>\n",
       "      <td>4.1%</td>\n",
       "      <td>5.2%</td>\n",
       "    </tr>\n",
       "    <tr>\n",
       "      <th>5</th>\n",
       "      <td>ZOOMLION</td>\n",
       "      <td>17.1 M</td>\n",
       "      <td>273</td>\n",
       "      <td>4.0%</td>\n",
       "      <td>4.2%</td>\n",
       "    </tr>\n",
       "    <tr>\n",
       "      <th>6</th>\n",
       "      <td>VOLVO</td>\n",
       "      <td>17.1 M</td>\n",
       "      <td>127</td>\n",
       "      <td>3.9%</td>\n",
       "      <td>2.0%</td>\n",
       "    </tr>\n",
       "    <tr>\n",
       "      <th>7</th>\n",
       "      <td>HITACHI</td>\n",
       "      <td>13.9 M</td>\n",
       "      <td>162</td>\n",
       "      <td>3.2%</td>\n",
       "      <td>2.5%</td>\n",
       "    </tr>\n",
       "    <tr>\n",
       "      <th>8</th>\n",
       "      <td>OTHERS</td>\n",
       "      <td>79.1 M</td>\n",
       "      <td>1364</td>\n",
       "      <td>18.3%</td>\n",
       "      <td>21.0%</td>\n",
       "    </tr>\n",
       "    <tr>\n",
       "      <th>9</th>\n",
       "      <td>UNKNOWN</td>\n",
       "      <td>23.3 M</td>\n",
       "      <td>599</td>\n",
       "      <td>5.4%</td>\n",
       "      <td>9.2%</td>\n",
       "    </tr>\n",
       "  </tbody>\n",
       "</table>\n",
       "</div>"
      ],
      "text/plain": [
       "         Brand Amount $  Units # Amount % Unit %\n",
       "0         SANY  140.4 M     2104    32.5%  32.4%\n",
       "1      KOMATSU   64.8 M      732    15.0%  11.3%\n",
       "2      KOBELCO   38.1 M      643     8.8%   9.9%\n",
       "3  CATERPILLAR   20.5 M      150     4.7%   2.3%\n",
       "4      LIUGONG   17.7 M      337     4.1%   5.2%\n",
       "5     ZOOMLION   17.1 M      273     4.0%   4.2%\n",
       "6        VOLVO   17.1 M      127     3.9%   2.0%\n",
       "7      HITACHI   13.9 M      162     3.2%   2.5%\n",
       "8       OTHERS   79.1 M     1364    18.3%  21.0%\n",
       "9      UNKNOWN   23.3 M      599     5.4%   9.2%"
      ]
     },
     "execution_count": 47,
     "metadata": {},
     "output_type": "execute_result"
    }
   ],
   "source": [
    "df_2024 = df_updated[df_updated['date'].dt.year==2024]\n",
    "key_players_table(df_2024)"
   ]
  },
  {
   "cell_type": "code",
   "execution_count": 80,
   "id": "a95b4479-4998-4b4b-b96d-7803138c4fd2",
   "metadata": {},
   "outputs": [],
   "source": [
    "# df_2024[df_2024['brand'].isin(['SANY'])].pivot_table(index='brand', columns='model', \n",
    "#                                                 values='amount in usd', aggfunc='sum').T.sort_values(by='SANY', ascending=False)"
   ]
  },
  {
   "cell_type": "code",
   "execution_count": 153,
   "id": "76820880-0062-483e-ae4c-5191ca6b706c",
   "metadata": {},
   "outputs": [
    {
     "data": {
      "text/html": [
       "<div>\n",
       "<style scoped>\n",
       "    .dataframe tbody tr th:only-of-type {\n",
       "        vertical-align: middle;\n",
       "    }\n",
       "\n",
       "    .dataframe tbody tr th {\n",
       "        vertical-align: top;\n",
       "    }\n",
       "\n",
       "    .dataframe thead th {\n",
       "        text-align: right;\n",
       "    }\n",
       "</style>\n",
       "<table border=\"1\" class=\"dataframe\">\n",
       "  <thead>\n",
       "    <tr style=\"text-align: right;\">\n",
       "      <th></th>\n",
       "      <th>Brand</th>\n",
       "      <th>Amount $</th>\n",
       "      <th>Units #</th>\n",
       "      <th>Amount %</th>\n",
       "      <th>Unit %</th>\n",
       "    </tr>\n",
       "  </thead>\n",
       "  <tbody>\n",
       "    <tr>\n",
       "      <th>0</th>\n",
       "      <td>KOMATSU</td>\n",
       "      <td>178.9 M</td>\n",
       "      <td>600</td>\n",
       "      <td>21.0%</td>\n",
       "      <td>6.2%</td>\n",
       "    </tr>\n",
       "    <tr>\n",
       "      <th>1</th>\n",
       "      <td>SANY</td>\n",
       "      <td>126.7 M</td>\n",
       "      <td>2221</td>\n",
       "      <td>14.9%</td>\n",
       "      <td>23.0%</td>\n",
       "    </tr>\n",
       "    <tr>\n",
       "      <th>2</th>\n",
       "      <td>HITACHI</td>\n",
       "      <td>107.0 M</td>\n",
       "      <td>479</td>\n",
       "      <td>12.6%</td>\n",
       "      <td>5.0%</td>\n",
       "    </tr>\n",
       "    <tr>\n",
       "      <th>3</th>\n",
       "      <td>KOBELCO</td>\n",
       "      <td>101.6 M</td>\n",
       "      <td>1526</td>\n",
       "      <td>11.9%</td>\n",
       "      <td>15.8%</td>\n",
       "    </tr>\n",
       "    <tr>\n",
       "      <th>4</th>\n",
       "      <td>XCMG</td>\n",
       "      <td>77.0 M</td>\n",
       "      <td>983</td>\n",
       "      <td>9.1%</td>\n",
       "      <td>10.2%</td>\n",
       "    </tr>\n",
       "    <tr>\n",
       "      <th>5</th>\n",
       "      <td>ZOOMLION</td>\n",
       "      <td>41.8 M</td>\n",
       "      <td>754</td>\n",
       "      <td>4.9%</td>\n",
       "      <td>7.8%</td>\n",
       "    </tr>\n",
       "    <tr>\n",
       "      <th>6</th>\n",
       "      <td>LIEBHERR</td>\n",
       "      <td>33.5 M</td>\n",
       "      <td>23</td>\n",
       "      <td>3.9%</td>\n",
       "      <td>0.2%</td>\n",
       "    </tr>\n",
       "    <tr>\n",
       "      <th>7</th>\n",
       "      <td>LIUGONG</td>\n",
       "      <td>28.7 M</td>\n",
       "      <td>512</td>\n",
       "      <td>3.4%</td>\n",
       "      <td>5.3%</td>\n",
       "    </tr>\n",
       "    <tr>\n",
       "      <th>8</th>\n",
       "      <td>OTHERS</td>\n",
       "      <td>155.8 M</td>\n",
       "      <td>2549</td>\n",
       "      <td>18.3%</td>\n",
       "      <td>26.4%</td>\n",
       "    </tr>\n",
       "  </tbody>\n",
       "</table>\n",
       "</div>"
      ],
      "text/plain": [
       "      Brand Amount $  Units # Amount % Unit %\n",
       "0   KOMATSU  178.9 M      600    21.0%   6.2%\n",
       "1      SANY  126.7 M     2221    14.9%  23.0%\n",
       "2   HITACHI  107.0 M      479    12.6%   5.0%\n",
       "3   KOBELCO  101.6 M     1526    11.9%  15.8%\n",
       "4      XCMG   77.0 M      983     9.1%  10.2%\n",
       "5  ZOOMLION   41.8 M      754     4.9%   7.8%\n",
       "6  LIEBHERR   33.5 M       23     3.9%   0.2%\n",
       "7   LIUGONG   28.7 M      512     3.4%   5.3%\n",
       "8    OTHERS  155.8 M     2549    18.3%  26.4%"
      ]
     },
     "execution_count": 153,
     "metadata": {},
     "output_type": "execute_result"
    }
   ],
   "source": [
    "df_2023 = df_updated[df_updated['date'].dt.year==2023]\n",
    "key_players_table(df_2023)"
   ]
  },
  {
   "cell_type": "code",
   "execution_count": 154,
   "id": "dfe402cf-530a-4541-aaf4-6bef12b452eb",
   "metadata": {},
   "outputs": [
    {
     "data": {
      "text/html": [
       "<div>\n",
       "<style scoped>\n",
       "    .dataframe tbody tr th:only-of-type {\n",
       "        vertical-align: middle;\n",
       "    }\n",
       "\n",
       "    .dataframe tbody tr th {\n",
       "        vertical-align: top;\n",
       "    }\n",
       "\n",
       "    .dataframe thead th {\n",
       "        text-align: right;\n",
       "    }\n",
       "</style>\n",
       "<table border=\"1\" class=\"dataframe\">\n",
       "  <thead>\n",
       "    <tr style=\"text-align: right;\">\n",
       "      <th></th>\n",
       "      <th>Brand</th>\n",
       "      <th>Amount $</th>\n",
       "      <th>Units #</th>\n",
       "      <th>Amount %</th>\n",
       "      <th>Unit %</th>\n",
       "    </tr>\n",
       "  </thead>\n",
       "  <tbody>\n",
       "    <tr>\n",
       "      <th>0</th>\n",
       "      <td>SANY</td>\n",
       "      <td>140.4 M</td>\n",
       "      <td>2104</td>\n",
       "      <td>32.5%</td>\n",
       "      <td>32.4%</td>\n",
       "    </tr>\n",
       "    <tr>\n",
       "      <th>1</th>\n",
       "      <td>KOMATSU</td>\n",
       "      <td>64.8 M</td>\n",
       "      <td>732</td>\n",
       "      <td>15.0%</td>\n",
       "      <td>11.3%</td>\n",
       "    </tr>\n",
       "    <tr>\n",
       "      <th>2</th>\n",
       "      <td>KOBELCO</td>\n",
       "      <td>38.1 M</td>\n",
       "      <td>643</td>\n",
       "      <td>8.8%</td>\n",
       "      <td>9.9%</td>\n",
       "    </tr>\n",
       "  </tbody>\n",
       "</table>\n",
       "</div>"
      ],
      "text/plain": [
       "     Brand Amount $  Units # Amount % Unit %\n",
       "0     SANY  140.4 M     2104    32.5%  32.4%\n",
       "1  KOMATSU   64.8 M      732    15.0%  11.3%\n",
       "2  KOBELCO   38.1 M      643     8.8%   9.9%"
      ]
     },
     "execution_count": 154,
     "metadata": {},
     "output_type": "execute_result"
    }
   ],
   "source": [
    "top3_players(df_2024)"
   ]
  },
  {
   "cell_type": "code",
   "execution_count": 160,
   "id": "1f2472df-233c-477a-a661-fb38ad8b522f",
   "metadata": {},
   "outputs": [
    {
     "data": {
      "text/html": [
       "<div>\n",
       "<style scoped>\n",
       "    .dataframe tbody tr th:only-of-type {\n",
       "        vertical-align: middle;\n",
       "    }\n",
       "\n",
       "    .dataframe tbody tr th {\n",
       "        vertical-align: top;\n",
       "    }\n",
       "\n",
       "    .dataframe thead th {\n",
       "        text-align: right;\n",
       "    }\n",
       "</style>\n",
       "<table border=\"1\" class=\"dataframe\">\n",
       "  <thead>\n",
       "    <tr style=\"text-align: right;\">\n",
       "      <th></th>\n",
       "      <th>Capacity</th>\n",
       "      <th>Amount $</th>\n",
       "      <th>Units #</th>\n",
       "      <th>Amount %</th>\n",
       "      <th>Unit %</th>\n",
       "    </tr>\n",
       "  </thead>\n",
       "  <tbody>\n",
       "    <tr>\n",
       "      <th>0</th>\n",
       "      <td>20-30T</td>\n",
       "      <td>153.9 M</td>\n",
       "      <td>2329</td>\n",
       "      <td>35.6%</td>\n",
       "      <td>35.9%</td>\n",
       "    </tr>\n",
       "    <tr>\n",
       "      <th>1</th>\n",
       "      <td>30-40T</td>\n",
       "      <td>80.5 M</td>\n",
       "      <td>660</td>\n",
       "      <td>18.6%</td>\n",
       "      <td>10.2%</td>\n",
       "    </tr>\n",
       "    <tr>\n",
       "      <th>2</th>\n",
       "      <td>5-10T</td>\n",
       "      <td>57.8 M</td>\n",
       "      <td>2271</td>\n",
       "      <td>13.4%</td>\n",
       "      <td>35.0%</td>\n",
       "    </tr>\n",
       "    <tr>\n",
       "      <th>3</th>\n",
       "      <td>10-20T</td>\n",
       "      <td>23.7 M</td>\n",
       "      <td>422</td>\n",
       "      <td>5.5%</td>\n",
       "      <td>6.5%</td>\n",
       "    </tr>\n",
       "    <tr>\n",
       "      <th>4</th>\n",
       "      <td>40-50T</td>\n",
       "      <td>22.9 M</td>\n",
       "      <td>104</td>\n",
       "      <td>5.3%</td>\n",
       "      <td>1.6%</td>\n",
       "    </tr>\n",
       "    <tr>\n",
       "      <th>5</th>\n",
       "      <td>50-60T</td>\n",
       "      <td>20.9 M</td>\n",
       "      <td>114</td>\n",
       "      <td>4.8%</td>\n",
       "      <td>1.8%</td>\n",
       "    </tr>\n",
       "    <tr>\n",
       "      <th>6</th>\n",
       "      <td>200-210T</td>\n",
       "      <td>19.7 M</td>\n",
       "      <td>7</td>\n",
       "      <td>4.6%</td>\n",
       "      <td>0.1%</td>\n",
       "    </tr>\n",
       "    <tr>\n",
       "      <th>7</th>\n",
       "      <td>100-110T</td>\n",
       "      <td>14.2 M</td>\n",
       "      <td>16</td>\n",
       "      <td>3.3%</td>\n",
       "      <td>0.2%</td>\n",
       "    </tr>\n",
       "    <tr>\n",
       "      <th>8</th>\n",
       "      <td>&lt;5T</td>\n",
       "      <td>9.6 M</td>\n",
       "      <td>409</td>\n",
       "      <td>2.2%</td>\n",
       "      <td>6.3%</td>\n",
       "    </tr>\n",
       "    <tr>\n",
       "      <th>9</th>\n",
       "      <td>70-80T</td>\n",
       "      <td>8.9 M</td>\n",
       "      <td>27</td>\n",
       "      <td>2.1%</td>\n",
       "      <td>0.4%</td>\n",
       "    </tr>\n",
       "    <tr>\n",
       "      <th>10</th>\n",
       "      <td>230-240T</td>\n",
       "      <td>6.0 M</td>\n",
       "      <td>3</td>\n",
       "      <td>1.4%</td>\n",
       "      <td>0.0%</td>\n",
       "    </tr>\n",
       "    <tr>\n",
       "      <th>11</th>\n",
       "      <td>110-120T</td>\n",
       "      <td>4.1 M</td>\n",
       "      <td>6</td>\n",
       "      <td>1.0%</td>\n",
       "      <td>0.1%</td>\n",
       "    </tr>\n",
       "    <tr>\n",
       "      <th>12</th>\n",
       "      <td>80-90T</td>\n",
       "      <td>3.9 M</td>\n",
       "      <td>10</td>\n",
       "      <td>0.9%</td>\n",
       "      <td>0.2%</td>\n",
       "    </tr>\n",
       "    <tr>\n",
       "      <th>13</th>\n",
       "      <td>120-130T</td>\n",
       "      <td>2.0 M</td>\n",
       "      <td>3</td>\n",
       "      <td>0.5%</td>\n",
       "      <td>0.0%</td>\n",
       "    </tr>\n",
       "    <tr>\n",
       "      <th>14</th>\n",
       "      <td>60-70T</td>\n",
       "      <td>1.3 M</td>\n",
       "      <td>6</td>\n",
       "      <td>0.3%</td>\n",
       "      <td>0.1%</td>\n",
       "    </tr>\n",
       "    <tr>\n",
       "      <th>15</th>\n",
       "      <td>90-100T</td>\n",
       "      <td>0.4 M</td>\n",
       "      <td>1</td>\n",
       "      <td>0.1%</td>\n",
       "      <td>0.0%</td>\n",
       "    </tr>\n",
       "    <tr>\n",
       "      <th>16</th>\n",
       "      <td>UNKNOWN</td>\n",
       "      <td>2.2 M</td>\n",
       "      <td>103</td>\n",
       "      <td>0.5%</td>\n",
       "      <td>1.6%</td>\n",
       "    </tr>\n",
       "  </tbody>\n",
       "</table>\n",
       "</div>"
      ],
      "text/plain": [
       "    Capacity Amount $  Units # Amount % Unit %\n",
       "0     20-30T  153.9 M     2329    35.6%  35.9%\n",
       "1     30-40T   80.5 M      660    18.6%  10.2%\n",
       "2      5-10T   57.8 M     2271    13.4%  35.0%\n",
       "3     10-20T   23.7 M      422     5.5%   6.5%\n",
       "4     40-50T   22.9 M      104     5.3%   1.6%\n",
       "5     50-60T   20.9 M      114     4.8%   1.8%\n",
       "6   200-210T   19.7 M        7     4.6%   0.1%\n",
       "7   100-110T   14.2 M       16     3.3%   0.2%\n",
       "8        <5T    9.6 M      409     2.2%   6.3%\n",
       "9     70-80T    8.9 M       27     2.1%   0.4%\n",
       "10  230-240T    6.0 M        3     1.4%   0.0%\n",
       "11  110-120T    4.1 M        6     1.0%   0.1%\n",
       "12    80-90T    3.9 M       10     0.9%   0.2%\n",
       "13  120-130T    2.0 M        3     0.5%   0.0%\n",
       "14    60-70T    1.3 M        6     0.3%   0.1%\n",
       "15   90-100T    0.4 M        1     0.1%   0.0%\n",
       "16   UNKNOWN    2.2 M      103     0.5%   1.6%"
      ]
     },
     "execution_count": 160,
     "metadata": {},
     "output_type": "execute_result"
    }
   ],
   "source": [
    "key_capacity_interval(df_2024)"
   ]
  }
 ],
 "metadata": {
  "kernelspec": {
   "display_name": "Python 3 (ipykernel)",
   "language": "python",
   "name": "python3"
  },
  "language_info": {
   "codemirror_mode": {
    "name": "ipython",
    "version": 3
   },
   "file_extension": ".py",
   "mimetype": "text/x-python",
   "name": "python",
   "nbconvert_exporter": "python",
   "pygments_lexer": "ipython3",
   "version": "3.9.13"
  }
 },
 "nbformat": 4,
 "nbformat_minor": 5
}
