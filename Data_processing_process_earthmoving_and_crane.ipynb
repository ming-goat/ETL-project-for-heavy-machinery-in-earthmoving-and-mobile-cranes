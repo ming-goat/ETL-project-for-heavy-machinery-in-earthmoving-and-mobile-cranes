{
 "cells": [
  {
   "cell_type": "markdown",
   "id": "63eb6872-9888-4090-b486-65619cbaa83b",
   "metadata": {},
   "source": [
    "# Earthmoving-mobile-crane-CRISP-DM-project"
   ]
  },
  {
   "cell_type": "markdown",
   "id": "ff962e13-db9e-49d8-9ed1-ffe05e336734",
   "metadata": {},
   "source": [
    "**Author:** _Ming Xu_\n",
    "\n",
    "**Last update:** _2024.06.24_"
   ]
  },
  {
   "cell_type": "code",
   "execution_count": 1,
   "id": "ecfc3f22-e5d9-4f4f-b2f8-d5a61cd2972e",
   "metadata": {},
   "outputs": [],
   "source": [
    "# import necessary packages\n",
    "import pandas as pd\n",
    "import numpy as np\n",
    "import warnings\n",
    "warnings.filterwarnings('ignore')\n",
    "from data_processing_program_20240520 import deal_special_brand, pre_processing, data_preperation, matching_program, search_regex, search_capacity, mark_unknown_model_with_exsisted_lifting_capacity, mark_outliers, convert_usd_to_cny, update_regex_df, check_col_names, define_load_interval, define_excavator_load_type_interval, check_col_names, matching_program_individual\n",
    "pd.options.display.float_format = '{:.1f}'.format\n",
    "import re"
   ]
  },
  {
   "cell_type": "markdown",
   "id": "03127cab-9c5e-4630-9a93-3cbcd5699276",
   "metadata": {},
   "source": [
    "# Data pre-processing"
   ]
  },
  {
   "cell_type": "code",
   "execution_count": 2,
   "id": "7fc72b36-e4c1-4ba0-9d95-eeea64beec9b",
   "metadata": {},
   "outputs": [],
   "source": [
    "# Read dataframe, and input the route to the following code\n",
    "df = pd.read_excel('/Users/mingxu/Traymann/ZOOMLION/统计分析报告/8_印度尼西亚/土方/挖掘机/数据处理/842952印尼进口-202401-202403.xls', sheet_name=\"Sheet1\")"
   ]
  },
  {
   "cell_type": "markdown",
   "id": "13350d27-5857-4382-a07b-4437f228a751",
   "metadata": {},
   "source": [
    "Make sure **'date', 'product description', 'supplier', 'amount in usd', 'weight', 'qty', 'unit'** are existed in the col names"
   ]
  },
  {
   "cell_type": "code",
   "execution_count": 3,
   "id": "83465aa8-ccd8-4ea0-b8ed-c470e43ad6a3",
   "metadata": {},
   "outputs": [],
   "source": [
    "# convert the col_names into English\n",
    "df.columns = ['month', 'hs code', 'product description', 'code description', 'brand', 'importer', 'supplier', 'original country', 'original state',\n",
    "              'qty', 'unit', 'amount in usd', 'price in usd', 'amount in contract', 'price in contract', 'date', 'declaration number', 'import/export',\n",
    "              'destination port in indonesia', 'foreign ports of loading', 'importer address', 'exporter address', 'currency', 'amount in IDR', 'price in IDR', \n",
    "              'unit price in usd by weight', 'weight in kg', 'weight in tons']"
   ]
  },
  {
   "cell_type": "markdown",
   "id": "063a4080-f7c7-4f8b-b47c-3dd6213684f6",
   "metadata": {},
   "source": [
    "Convert **date** in format"
   ]
  },
  {
   "cell_type": "code",
   "execution_count": 4,
   "id": "9a08ee64-1df0-4c57-b0ca-3b0d7601d19e",
   "metadata": {},
   "outputs": [],
   "source": [
    "df['date'] = pd.to_datetime(df['date'])"
   ]
  },
  {
   "cell_type": "markdown",
   "id": "f05d79a9-aa6b-462e-b9e4-2c598976e85b",
   "metadata": {},
   "source": [
    "Check units to ensure that they are unified. Exceptions should be checked individually and get unified, e.g., the presence of UNIT and SET in the tables"
   ]
  },
  {
   "cell_type": "code",
   "execution_count": 5,
   "id": "a8335c93-2cb5-4927-9255-02dcbe961c45",
   "metadata": {},
   "outputs": [
    {
     "data": {
      "text/plain": [
       "Number of international units    1107\n",
       "Set                                97\n",
       "Piece                              14\n",
       "pack                                1\n",
       "Name: unit, dtype: int64"
      ]
     },
     "execution_count": 5,
     "metadata": {},
     "output_type": "execute_result"
    }
   ],
   "source": [
    "df['unit'].value_counts()"
   ]
  },
  {
   "cell_type": "markdown",
   "id": "0e0ad466-9971-45e5-932f-d81fb8003c78",
   "metadata": {},
   "source": [
    "Delete rows that **'amount in usd'** and **'price in usd'**amount in usd **below 10K**."
   ]
  },
  {
   "cell_type": "code",
   "execution_count": 6,
   "id": "c86436f3-50f1-4f99-8003-50af007b24e1",
   "metadata": {},
   "outputs": [],
   "source": [
    "df = df[df['amount in usd']>=10000]\n",
    "df = df[df['price in usd']>=10000]\n",
    "df = df.reset_index(drop=True)"
   ]
  },
  {
   "cell_type": "code",
   "execution_count": 7,
   "id": "62bb6ebd-f786-449c-b336-c0b8bb310998",
   "metadata": {},
   "outputs": [],
   "source": [
    "df['unit'] = 'UNT'"
   ]
  },
  {
   "cell_type": "markdown",
   "id": "de100650-e715-4693-a039-98fc127928bf",
   "metadata": {},
   "source": [
    "Calculate unit price and net weight in tons\n",
    "\n",
    "$$unit\\ price = \\frac{amount}{quantity}$$\n",
    "\n",
    "$$weight\\ (ton) = \\frac{weight\\ (kg)}{quantity \\times 1000}$$"
   ]
  },
  {
   "cell_type": "code",
   "execution_count": 8,
   "id": "3a7eeb11-8b5f-421c-adb9-fb5555d1447f",
   "metadata": {},
   "outputs": [],
   "source": [
    "# Converts quantities and weights into numeric format for easy calculation\n",
    "df['qty'] = pd.to_numeric(df['qty'], errors='coerce')\n",
    "df['weight in kg'] = pd.to_numeric(df['weight in kg'], errors='coerce')\n",
    "\n",
    "# Calculate unit price and net weight per unit in ton\n",
    "df['price in usd'] = df['amount in usd']/df['qty']\n",
    "df['unit weight in ton'] = df['weight in kg']/df['qty']/1000"
   ]
  },
  {
   "cell_type": "code",
   "execution_count": null,
   "id": "6d02391f-76f7-4d29-887e-2eba4b4e1cac",
   "metadata": {},
   "outputs": [],
   "source": [
    "# load reference dataframe\n",
    "df_ref = pd.read_excel('/Users/mingxu/Traymann/ZOOMLION/统计分析报告/8_印度尼西亚/土方/挖掘机/数据处理/数据对照表/型号对照/20240115_土方对照表_含吨位和马力.xlsx', sheet_name=\"对照表\")"
   ]
  },
  {
   "cell_type": "markdown",
   "id": "0aa771f2-8ae2-46c9-ac5e-3725379f621a",
   "metadata": {},
   "source": [
    "**data_preperation(df, df_ref) definition**\n",
    "\n",
    "* input parameter 输入参数\n",
    "    * Original dataframe 原始数据表\n",
    "    * reference dataframe 数据对照表\n",
    "* Output 输出\n",
    "    * Creat a copy of **product description** to avoid the direct modification on original data 新建**产品描述**副本以免影响原始数据；\n",
    "    * Remove the special characters, space and puntuations in product description 去除描述中存在的特殊字符及空格"
   ]
  },
  {
   "cell_type": "code",
   "execution_count": null,
   "id": "5cf7a735-bef3-4e18-8a8a-769d80aefee4",
   "metadata": {},
   "outputs": [],
   "source": [
    "data_preperation(df, df_ref)"
   ]
  },
  {
   "cell_type": "markdown",
   "id": "0d1fe5dd-890a-477f-b3d9-ab831feb1e4c",
   "metadata": {
    "tags": []
   },
   "source": [
    "# Matching the reference table\n",
    "\n",
    "Goal: mathcing the exsisted knowledge in the reference table to the processing data.\n",
    "\n",
    "目的：将对照表里存在的设备信息匹配到目前正在处理的数据中\n",
    "\n",
    "**matching_program() definition:**\n",
    "* Input parameters (in order): original dataframe, reference table, file type ('crane' or 'excavator') \n",
    "\n",
    "    输入参数（依次）：原始数据表，对照表，文件类型。其中文件类型可填写 'crane' 或 'excavator'\n",
    "* Output: processed dataframe; error indexes \n",
    "\n",
    "    输出：匹配后的表格；报错的行号（若有）\n",
    "\n",
    "**What happened? and what's the standard? 运行机制及标准：**\n",
    "\n",
    "**1. Mapping the existed knowledge in reference table to the original dataframe 将数据对照表里存在的信息对应关系匹配到原始数据里**\n",
    "* Check if any brand existed in product description column -> Mark: Brand in description; Only take the first brand if multipul brands existed\n",
    "* Check if any brand existed in supplier description column -> Mark: Brand in supplier; Only take the first brand if multiple brands existed\n",
    "* For rows with brands -> Searching the brand in reference table -> Check if the model existed in product description -> if only a single model match -> Mark: Fully match\n",
    "* For rows with brands -> Searching the brand in reference table -> Check if the model existed in product description -> if several models match, only take the longest model -> Mark: Multiple model matched, take the longest match\n",
    "* Nothing matched -> Mark: No match\n",
    "\n",
    "    <details>\n",
    "        <summary>CN VER.</summary>\n",
    "    \n",
    "        * 对照表里的品牌是否存在于产品描述里 -> 存在标记品牌；备注：描述中存在品牌；存在多个匹配品牌时，取第一个品牌\n",
    "    \n",
    "        * 对照表里的品牌是否存在于供应商描述里 -> 存在标记品牌；备注：供应商存在品牌；存在多个匹配品牌时，取第一个品牌\n",
    "    \n",
    "        * 存在品牌的条目 -> 对照表筛选该品牌 -> 标记匹配的型号；型号唯一时；备注：完美匹配\n",
    "    \n",
    "        * 存在品牌的条目 -> 对照表筛选该品牌 -> 标记匹配的型号；有多个型号匹配时，取最长的型号；备注：多个型号匹配，取最长的型号\n",
    "    \n",
    "        * 没有匹配的品牌 -> 将在下一个步骤通过通用表达式对条目进行搜索\n",
    "    \n",
    "        * 什么都没有的时候 -> 备注：无品牌型号匹配\n",
    "\n",
    "\n",
    "**2. Delete the irrelevant items 删除包含不相关关键词的条目**\n",
    "\n",
    "    Current statistics for irrelevant keywords include the following 目前统计不相关关键词含如下：\n",
    "\n",
    "    ['CARRIER', 'TELESCOPLADER', 'HARBOUR', 'OPEN SHEET', 'STACK', 'BOAT', 'BACKHOE', 'SKID', 'ROLLER', 'BENZ', 'TELEHANDLER', 'LOADER', 'FORK', 'PAVER', 'STACKER', 'MATERIAL HANDLER', 'BRIDGE', 'REACH', 'HANDER', 'GRABBER', GANTRY', 'BACK HOE', 'PORT', 'MERCEDES', 'VİNCE', 'SPIDER', 'PIPE', 'HANDLING', 'GLASS CRANE', 'LOAD', 'GRADER', 'GLASS CRANE', 'SPIDER']\n",
    "                            \n",
    "**3. Infer product type according to keywords in description 根据货物描述包含的关键词判断产品类型**\n",
    "* Excavator 挖掘机：\n",
    "    * crawler excavator -> EXCAVATOR\n",
    "    * wheel 或 tire -> WHEEL EXCAVATOR\n",
    "    * AMPHIBIOUS -> AMPHIBIOUS EXCAVATOR\n",
    "    * without the above keywords -> UNKNOWN\n",
    "* Mobile Crane 工起：\n",
    "    * Wheel **or** tire -> WHEELED CRANE\n",
    "    * rough -> ROUGH-TERRAIN CRANE\n",
    "    * crawler -> CRAWLER CRANE\n",
    "    * crawler **and** telescopic -> CRAWLER CRANE (TELESCOPIC_BOOM)\n",
    "    * without the above keywords -> UNKNOWN\n",
    "    \n",
    "**4. New or used unit judgement 判断新旧机**\n",
    "* Contain the following keywords: ['USED', 'SECOND HAND', 'SECONDHAND', 'OLD', '2ND HAND', 'REFURBISH']\n",
    "* Contain a number ranging from 1950 to 2019\n",
    "\n",
    "    **Mark as used unit**\n",
    "\n",
    "**5. Parts**\n",
    "* Contain the following keywords: ['CKD', 'SKD', 'partial'] Mark as **‘Parts’**"
   ]
  },
  {
   "cell_type": "code",
   "execution_count": 11,
   "id": "23753c6b-04f9-4b07-b5fd-e75ce1726c06",
   "metadata": {},
   "outputs": [],
   "source": [
    "# input parameters: original dataframe, reference table, file type (fill in 'crane' or 'excavator')\n",
    "# output: df with matched info; error row index\n",
    "df, error_rows_index = matching_program(df, df_ref, file_type='excavator')"
   ]
  },
  {
   "cell_type": "code",
   "execution_count": 12,
   "id": "695dd128-28f1-4b46-869d-34f695c92afb",
   "metadata": {},
   "outputs": [
    {
     "data": {
      "text/plain": [
       "dict_keys([])"
      ]
     },
     "execution_count": 12,
     "metadata": {},
     "output_type": "execute_result"
    }
   ],
   "source": [
    "# check if contain error rows\n",
    "error_rows_index.keys()"
   ]
  },
  {
   "cell_type": "code",
   "execution_count": 13,
   "id": "85daa1fa-0669-4ee7-b8a7-5fa597e5abfd",
   "metadata": {},
   "outputs": [
    {
     "data": {
      "text/plain": [
       "Fully match                          593\n",
       "Brands existed but without models     73\n",
       "No match                              65\n",
       "Parts                                 16\n",
       "Name: remark, dtype: int64"
      ]
     },
     "execution_count": 13,
     "metadata": {},
     "output_type": "execute_result"
    }
   ],
   "source": [
    "# check the remarks\n",
    "df['remark'].value_counts()"
   ]
  },
  {
   "cell_type": "markdown",
   "id": "68b6fa21-9b85-4acf-baca-d551386bd519",
   "metadata": {},
   "source": [
    "# Matching with regular expression\n",
    "Goal: For data that is no labeled, labeling them by regular expression based on naming rules. \n",
    "\n",
    "目的：根据各品牌的型号命名规则，对上一步没有匹配上的数据进行规则匹配并进行信息标记"
   ]
  },
  {
   "cell_type": "code",
   "execution_count": 14,
   "id": "5852579b-82f4-4122-ad84-a03cb59b2d71",
   "metadata": {},
   "outputs": [],
   "source": [
    "# Load regex reference table\n",
    "df_regex = pd.read_excel('/Users/mingxu/Traymann/ZOOMLION/统计分析报告/8_印度尼西亚/土方/挖掘机/数据处理/数据对照表/Regex/20240527_土方REGEX对照表.xlsx',sheet_name='对照表')"
   ]
  },
  {
   "cell_type": "markdown",
   "id": "fdc829b7-2568-42da-b144-b37d252aeedf",
   "metadata": {},
   "source": [
    "**search_regex() definition**\n",
    "* Original dataframe 原始表格\n",
    "* Filter condition(s) 筛选条件\n",
    "* Searching col 搜索列的列名\n",
    "* regex reference table 通用表达式对照表\n",
    "* Filter brands or not 是否对品牌进行筛选 **filter_brand=True/False**\n",
    "    * True: If the items has been flagged with brand, this function will **only search regexes within the flagged brand**\n",
    "    * False: Ignore the flagged brand and search through the whole reference table\n",
    "* Whether to mark working capacity (e.g. tonnage/max lift) **mark_load=True/False**\n",
    "    * True: mark\n",
    "    * False: ignore"
   ]
  },
  {
   "cell_type": "code",
   "execution_count": 16,
   "id": "0b65a247-a684-4078-9d90-e509be304ed1",
   "metadata": {},
   "outputs": [],
   "source": [
    "# Aim to have a second search for \"Brands existed but without models\" and \"No match\" items\n",
    "df = search_regex(df, df['remark'].isin(['Brands existed but without models']), 'description2', df_regex, filter_brand=True, mark_load=True)"
   ]
  },
  {
   "cell_type": "code",
   "execution_count": 17,
   "id": "7a8d8e64-7b77-40d8-affc-38dc5f19897e",
   "metadata": {},
   "outputs": [],
   "source": [
    "df = search_regex(df, df['remark'].isin(['No match']), 'description2', df_regex, filter_brand=False, mark_load=True)"
   ]
  },
  {
   "cell_type": "markdown",
   "id": "adde9bc2-194b-4e92-9dc2-374f00bf0655",
   "metadata": {},
   "source": [
    "**search_capacity() definition**\n",
    "* Original dataframe 原始表格\n",
    "* Filter condition(s) 搜索条件\n",
    "* Searching col 搜索列名\n",
    "* regex 搜索规律通用表达式"
   ]
  },
  {
   "cell_type": "markdown",
   "id": "a3fa34ff-1001-448a-9788-fd0d10da9719",
   "metadata": {},
   "source": [
    "目的：检索描述中包含 **$数字 + (metric) \\ TONS$** 关键词。这部分将会把TONS前面的数字标记为吊重。\n",
    "\n",
    "Goal: Searching the pattern of **$number + (metric) \\ TONS$** in description, and mark the number as maximum lifting capacity\n",
    "\n",
    "This part of data will be marked as: _Description contains working capacity_"
   ]
  },
  {
   "cell_type": "code",
   "execution_count": 18,
   "id": "b1f69c91-f94b-4204-b486-cc8c7f423936",
   "metadata": {},
   "outputs": [],
   "source": [
    "condition = df['capacity']=='UNKNOWN'\n",
    "search_col = 'description2'\n",
    "capacity_regex = r'\\b(\\d+(?:\\.\\d+)?)\\s*(?:METRIC\\s*)?TONS?\\b'\n",
    "# (?:METRIC\\s*)?: Matches an optional 'METRIC' followed by optional whitespace characters. \n",
    "# The (?: ... ) is a non-capturing group.\n",
    "df = search_capacity(df, condition, search_col, capacity_regex)"
   ]
  },
  {
   "cell_type": "code",
   "execution_count": 19,
   "id": "342e85b3-592f-459c-a16c-eab35b4fa4ee",
   "metadata": {},
   "outputs": [
    {
     "data": {
      "text/plain": [
       "array(['MAXPOWER', 'LONKING'], dtype=object)"
      ]
     },
     "execution_count": 19,
     "metadata": {},
     "output_type": "execute_result"
    }
   ],
   "source": [
    "df.loc[df['remark'].isin(['Brands existed but without models']),'brand'].unique()"
   ]
  },
  {
   "cell_type": "code",
   "execution_count": 20,
   "id": "07b6bb53-2bb2-42ca-81a0-36eaca85f201",
   "metadata": {},
   "outputs": [
    {
     "data": {
      "text/plain": [
       "Fully match                                                   593\n",
       "Unique model match with regex                                  45\n",
       "No match                                                       39\n",
       "No brand in description, and unique model match with regex     25\n",
       "Keep the longest from the multiple matched                     23\n",
       "Parts                                                          16\n",
       "Brands existed but without models                               5\n",
       "Description contains working capacity                           1\n",
       "Name: remark, dtype: int64"
      ]
     },
     "execution_count": 20,
     "metadata": {},
     "output_type": "execute_result"
    }
   ],
   "source": [
    "df['remark'].value_counts()"
   ]
  },
  {
   "cell_type": "markdown",
   "id": "f0de727d-aca4-412d-b828-eb7992565848",
   "metadata": {},
   "source": [
    "Crawler crane 300T以上的基本可以判断为 Lattice boom"
   ]
  },
  {
   "cell_type": "code",
   "execution_count": 21,
   "id": "c3304fc3-2a2f-4c67-8bd2-b5983f0e0573",
   "metadata": {},
   "outputs": [],
   "source": [
    "df['capacity'] = pd.to_numeric(df['capacity'], errors='coerce')\n",
    "# df.loc[(df['类型'].isin(['CRAWLER CRANE']))&(df['吨位'].notna())&(df['吨位']>300),'类型'] = 'CRAWLER CRANE (LATTICE_BOOM)'"
   ]
  },
  {
   "cell_type": "markdown",
   "id": "596964cb-2fd7-4679-b9f6-91ca127dbd35",
   "metadata": {},
   "source": [
    "Since CATERILLAR's naming rules is relatively simple and can easily be mislabeled by serial numbers, this issue should be  addressed separately."
   ]
  },
  {
   "cell_type": "code",
   "execution_count": 22,
   "id": "2215103b-01f3-4744-9327-d0e5a9e0e797",
   "metadata": {},
   "outputs": [
    {
     "data": {
      "text/plain": [
       "model    type             new/used  remark     \n",
       "305.5E2  EXCAVATOR        new       Fully match    12\n",
       "320      EXCAVATOR        new       Fully match     7\n",
       "330 GC   EXCAVATOR        new       Fully match     7\n",
       "313      EXCAVATOR        new       Fully match     6\n",
       "307      EXCAVATOR        new       Fully match     3\n",
       "6020B    EXCAVATOR        new       Fully match     3\n",
       "345 GC   EXCAVATOR        new       Fully match     2\n",
       "333      EXCAVATOR        new       Fully match     1\n",
       "M320     WHEEL EXCAVATOR  new       Fully match     1\n",
       "dtype: int64"
      ]
     },
     "execution_count": 22,
     "metadata": {},
     "output_type": "execute_result"
    }
   ],
   "source": [
    "df.loc[df['brand']=='CATERPILLAR',['model','type','new/used','remark']].value_counts()"
   ]
  },
  {
   "cell_type": "code",
   "execution_count": 23,
   "id": "bdade5a8-27a0-4b0e-a58e-89fb8b4a5f2e",
   "metadata": {},
   "outputs": [],
   "source": [
    "cat_regex = pd.read_excel('/Users/mingxu/Traymann/ZOOMLION/数据对照表/20240312_土方CAT_REGEX对照表.xlsx',sheet_name='Sheet1')"
   ]
  },
  {
   "cell_type": "code",
   "execution_count": 24,
   "id": "f5d07e8a-813d-4b7c-bf3e-c4adea458032",
   "metadata": {},
   "outputs": [],
   "source": [
    "df = search_regex(df, (df['brand']=='CATERPILLAR')&(df['model']=='UNKNOWN'), 'description2', cat_regex, filter_brand=True, mark_load=True)"
   ]
  },
  {
   "cell_type": "code",
   "execution_count": 25,
   "id": "ebbe74b2-7212-4565-875c-255c41c3897b",
   "metadata": {},
   "outputs": [
    {
     "data": {
      "text/plain": [
       "Fully match                                                   593\n",
       "Unique model match with regex                                  45\n",
       "No match                                                       39\n",
       "No brand in description, and unique model match with regex     25\n",
       "Keep the longest from the multiple matched                     23\n",
       "Parts                                                          16\n",
       "Brands existed but without models                               5\n",
       "Description contains working capacity                           1\n",
       "Name: remark, dtype: int64"
      ]
     },
     "execution_count": 25,
     "metadata": {},
     "output_type": "execute_result"
    }
   ],
   "source": [
    "df['remark'].value_counts()"
   ]
  },
  {
   "cell_type": "markdown",
   "id": "2ccbe093-e238-4927-b2fd-f8ee93316cb1",
   "metadata": {
    "tags": []
   },
   "source": [
    "# Infer and label the items with existed information\n",
    "\n",
    "In this section, I will use the labeled items which with the crucial information of ['brand','model','capacity','type'], such as _item A_ to inference the missing info of _item B_. \n",
    "\n",
    "Condition: If item A's brand and type are consistent to item B, and its capacity is within the range of ±5% of that of item B.\n",
    "\n",
    "For instance: A contains all information. B's working capacity is infered from the description via search the patter of number + tons. This function will take ±5% as a threshold, and if A's capacity just fall in this range, then I will label B's model by A.\n",
    "\n",
    "| item | brand | model | capacity | type |\n",
    "|------|------|------|------|------|\n",
    "| A    | ✓    | ✓    | ✓    | ✓    |\n",
    "| B    | ✓    | ✘    | ✓    | ✓    |\n",
    "\n",
    "<details>\n",
    "    <summary>CN VER.</summary>\n",
    "此部分将用已标记了品牌、型号、吊重、类型信息的条目（A条目），反向匹配包含品牌、吊重和类型的条目（B条目）。\n",
    "\n",
    "运行条件：只要满足品牌和类型匹配，且B的吊重在已知A吊重的±5%范围内。\n",
    "\n",
    "例如：已知A和B两个条目品牌和类型一致，A包含上述的4个已知信息。B的吊重通过数字+TONS的方式知道该信息。下面的方程将会计算B的吨位±5%作为阈值，如果A的吊重正好在这个区间内，那判断B的型号和A一致。"
   ]
  },
  {
   "cell_type": "code",
   "execution_count": 26,
   "id": "5ad545f9-65ba-454c-8ef0-4b39cac3857b",
   "metadata": {},
   "outputs": [],
   "source": [
    "df = mark_unknown_model_with_exsisted_lifting_capacity(df)"
   ]
  },
  {
   "cell_type": "code",
   "execution_count": 27,
   "id": "9f8a6787-cde3-4b52-a02f-d0111c3285ca",
   "metadata": {},
   "outputs": [
    {
     "name": "stdout",
     "output_type": "stream",
     "text": [
      "No match items amount: $ 8756612.0\n",
      "No match items qty: 152 units\n"
     ]
    }
   ],
   "source": [
    "# Calculate the amount and quantity of no matched items\n",
    "unlabeled_value = round(df.loc[df['remark'] == 'No match','amount in usd'].sum(),1)\n",
    "unlabeled_qty = df.loc[df['remark'] == 'No match','qty'].sum()\n",
    "print(f'No match items amount: $ {round(unlabeled_value,2)}')\n",
    "print(f'No match items qty: {unlabeled_qty} units')"
   ]
  },
  {
   "cell_type": "markdown",
   "id": "d3757794-5f7c-4a12-8090-df79a813fc93",
   "metadata": {},
   "source": [
    "# Mark the outliers"
   ]
  },
  {
   "cell_type": "markdown",
   "id": "2ac589f3-83d0-4722-ab08-12aedcc96760",
   "metadata": {},
   "source": [
    "Check if N/A value contains"
   ]
  },
  {
   "cell_type": "code",
   "execution_count": 28,
   "id": "361685dc-63c1-4156-89f3-91e7d9da64e9",
   "metadata": {},
   "outputs": [
    {
     "data": {
      "text/plain": [
       "260"
      ]
     },
     "execution_count": 28,
     "metadata": {},
     "output_type": "execute_result"
    }
   ],
   "source": [
    "df['unit weight in ton'].isna().sum()"
   ]
  },
  {
   "cell_type": "markdown",
   "id": "d1fe45b1-1399-4720-9333-f85b7eb2a40e",
   "metadata": {},
   "source": [
    "**mark_outliers(df, term=True) definition**\n",
    "* Input paramter:\n",
    "    * original dataframe\n",
    "    * term: choose from **True/False**; Note: If the data contains shipping terms, true could be filled, and make sure there is a column \"term\" in dataframe\n",
    "        * True: The outlier judgment will be based on the brand, model, and terms as the filtering conditions, and the **median price** in the case that the above three marks are satisfied at the same time will be taken as the reference standard;\n",
    "        * False：If the original dataframe does not contain terms, fill in false will ignore terms and **will only take the median price under the same brand and model** according to the above criteria.\n",
    "\n",
    "**Goal:** Find out the outlier items for further price analysis\n",
    "\n",
    "**Price outlier judgement criteria:**\n",
    "\n",
    "Calculate the median price of models under the same brand, if trade terms exist, make a judgment under the same trade terms\n",
    "* Unknown: unknown model, used machine;\n",
    "* Normal: item prices within median ± median*20%;\n",
    "* Outlier: prices outside the aforementioned threshold."
   ]
  },
  {
   "cell_type": "code",
   "execution_count": 29,
   "id": "338b7a2f-109f-41e7-bdfd-ac4cbd2b6979",
   "metadata": {},
   "outputs": [],
   "source": [
    "df = mark_outliers(df, term=False)"
   ]
  },
  {
   "cell_type": "markdown",
   "id": "6d1c1066-8c9c-4a0d-b982-c64012cb6ddf",
   "metadata": {
    "tags": []
   },
   "source": [
    "# Working capacity interval division\n",
    "**define_load_interval(df, file_type, load_interval)**\n",
    "\n",
    "Input parameters:\n",
    "\n",
    "* Original dataframe\n",
    "* File_type: should fill in **crane** or **excavator**; Notice: the interval definition differs from file types\n",
    "* Define the load interval\n",
    "   * For example: define the interval as the specified number. If fill in 50, I will return ≤50T, 50-100T, 100-150T, and so forth."
   ]
  },
  {
   "cell_type": "markdown",
   "id": "661b53c0-3aec-4cb3-8359-0d77ce82db43",
   "metadata": {},
   "source": [
    "**Mobile crane**\n",
    "\n",
    "* There are cases where the lifting capacity is much larger than the self-weight of the equipment itself, and it varies from types, so it can't speculate by the weight of the equipment itself;\n",
    "* Will only mark the interval of items that are labeled with lifting capacity.\n",
    "    \n",
    "    \n",
    "**Excavator**\n",
    "\n",
    "The work load of excavator is almost identical to the weight of itself, and for unknown items will be divided by weight\n",
    "* Define the interval of known items\n",
    "* Define the interval of unknown items by weight"
   ]
  },
  {
   "cell_type": "code",
   "execution_count": 30,
   "id": "cd746d5f-4149-44a0-bf97-5161a8932661",
   "metadata": {},
   "outputs": [],
   "source": [
    "define_load_interval(df, file_type = 'excavator', load_interval = 10)"
   ]
  },
  {
   "cell_type": "code",
   "execution_count": 31,
   "id": "87b3aadb-cc61-4a92-a7d5-7b69f70b0ab2",
   "metadata": {},
   "outputs": [],
   "source": [
    "define_excavator_load_type_interval(df)"
   ]
  },
  {
   "cell_type": "code",
   "execution_count": 33,
   "id": "ce225667-b0a5-4102-9697-b687b5a60e00",
   "metadata": {},
   "outputs": [
    {
     "data": {
      "text/plain": [
       "5-10T      300\n",
       "10-30T     265\n",
       "30-70T     119\n",
       "<5T         27\n",
       "≥90T        15\n",
       "UNKNOWN     15\n",
       "70-90T       6\n",
       "Name: type interval, dtype: int64"
      ]
     },
     "execution_count": 33,
     "metadata": {},
     "output_type": "execute_result"
    }
   ],
   "source": [
    "df['type interval'].value_counts()"
   ]
  },
  {
   "cell_type": "code",
   "execution_count": 34,
   "id": "2112f569-8c56-428b-8293-f5be59801ebb",
   "metadata": {},
   "outputs": [
    {
     "data": {
      "text/plain": [
       "5-10T       300\n",
       "20-30T      222\n",
       "30-40T       61\n",
       "10-20T       43\n",
       "40-50T       41\n",
       "<5T          27\n",
       "50-60T       16\n",
       "UNKNOWN       7\n",
       "110-120T      6\n",
       "70-80T        5\n",
       "200-210T      4\n",
       "230-240T      3\n",
       "80-90T        1\n",
       "90-100T       1\n",
       "100-110T      1\n",
       "60-70T        1\n",
       "Name: capacity interval, dtype: int64"
      ]
     },
     "execution_count": 34,
     "metadata": {},
     "output_type": "execute_result"
    }
   ],
   "source": [
    "df['capacity interval'].value_counts()"
   ]
  },
  {
   "cell_type": "code",
   "execution_count": 35,
   "id": "41fa2c58-2c1a-4a64-b471-e7768c25bf8e",
   "metadata": {},
   "outputs": [],
   "source": [
    "df['type interval'] = df['type interval'].fillna('UNKNOWN')\n",
    "df['capacity interval'] = df['capacity interval'].fillna('UNKNOWN')"
   ]
  },
  {
   "cell_type": "markdown",
   "id": "9848aef5-6711-4d8d-aa06-b41537091023",
   "metadata": {},
   "source": [
    "# Exchange rate conversion\n",
    "\n",
    "**convert_usd_to_cny(df, rate_dict)**\n",
    "\n",
    "Input parameters:\n",
    "* Original dataframe: make sure ['date', 'price in usd', 'amount in usd'] columns are in dataframe\n",
    "* Exchange rate dictionary: a dictionary file, and should fill in the latest USD-CNY rate to \"rate_dict\". Historical data will be calculated automatically based on the date."
   ]
  },
  {
   "cell_type": "code",
   "execution_count": 36,
   "id": "42b78976-45cd-44a0-bdcf-ee27248fa51a",
   "metadata": {},
   "outputs": [],
   "source": [
    "rate_dict = {2023: {1: 6.7604, 2: 6.9519, 3: 6.8717, 4: 6.924, 5: 7.0821, 6: 7.2258, 7: 7.1305, 8: 7.1811, 9: 7.1798, 10: 7.1779, 11: 7.1018, 12: 7.0827},\n",
    "             2024: {1: 7.1039, 2: 7.1036, 3: 7.0950, 4:7.1063}}\n",
    "\n",
    "df = convert_usd_to_cny(df, rate_dict)"
   ]
  },
  {
   "cell_type": "code",
   "execution_count": 37,
   "id": "2b660c60-b457-4e79-b9b8-ea5e9edc8a6c",
   "metadata": {},
   "outputs": [],
   "source": [
    "# remove the extra marks\n",
    "df['model'] = df['model'].apply(lambda x: x.replace(' ',''))\n",
    "df['model'] = df['model'].apply(lambda x: x.lstrip())\n",
    "df['model'] = df['model'].apply(lambda x: x.rstrip())"
   ]
  },
  {
   "cell_type": "markdown",
   "id": "45c7bf77-bd70-400b-a09d-f98831504af1",
   "metadata": {},
   "source": [
    "**The code below only use for mobile crane data processing**\n",
    "* Merge the tranlation to dataframe"
   ]
  },
  {
   "cell_type": "code",
   "execution_count": null,
   "id": "3da4ccea-7b5a-4e6a-a033-ea8a50190aee",
   "metadata": {},
   "outputs": [],
   "source": [
    "EN_CN = pd.read_excel('/Users/mingxu/Traymann/ZOOMLION/数据对照表/工起类型分类对照表.xlsx',sheet_name='Sheet1')"
   ]
  },
  {
   "cell_type": "code",
   "execution_count": null,
   "id": "7dcc410b-c4e1-4510-93be-b64d57457caf",
   "metadata": {},
   "outputs": [],
   "source": [
    "df = pd.merge(df, EN_CN, how='left', on='类型')"
   ]
  },
  {
   "cell_type": "markdown",
   "id": "1f50d692-d1ba-476f-9917-6f98aebd9ec7",
   "metadata": {},
   "source": [
    "Save the file"
   ]
  },
  {
   "cell_type": "code",
   "execution_count": null,
   "id": "2d07d492-a988-4680-aa63-1cc87b9d5a63",
   "metadata": {},
   "outputs": [],
   "source": [
    "df.to_excel('/Users/mingxu/Traymann/ZOOMLION/统计分析报告/8_印度尼西亚/土方/挖掘机/数据处理/2024年一季度印尼挖掘机进口数据_已清理和异常判断.xlsx', sheet_name='Sheet1', index=False)"
   ]
  },
  {
   "cell_type": "markdown",
   "id": "c285aefa-6ed3-4792-a92a-edefd6b2c9aa",
   "metadata": {},
   "source": [
    "# Update historical data\n",
    "\n",
    "Concatenate the historical to the latest.\n",
    "* Make sure the processing logic are aligned;\n",
    "* Make sure the column names of both dataframes are identical."
   ]
  },
  {
   "cell_type": "code",
   "execution_count": null,
   "id": "375c3f7b-54ab-44a7-ae52-dd07b46b2dfe",
   "metadata": {},
   "outputs": [],
   "source": [
    "df_hist = pd.read_excel('/Users/mingxu/Traymann/ZOOMLION/统计分析报告/8_印度尼西亚/土方/挖掘机/2022年8-2023年印尼挖掘机进口数据快报.xlsx',sheet_name='7_原始数据')"
   ]
  },
  {
   "cell_type": "markdown",
   "id": "35da3ea2-f5a5-4310-935f-fb25479c5ac8",
   "metadata": {},
   "source": [
    "**check_col_names(df.columns, df_hist.columns)**\n",
    "\n",
    "Check the identity\n",
    "\n",
    "Check that the column names of the merged tables are consistent, with ORIGINAL on the left and REFERENCE on the right; as long as it is satisfied that the column names of one of the files are a subset of another file"
   ]
  },
  {
   "cell_type": "code",
   "execution_count": null,
   "id": "65dccfab-219d-4ec7-9eae-2f117f688b03",
   "metadata": {},
   "outputs": [],
   "source": [
    "check_col_names(df.columns, df_hist.columns)"
   ]
  },
  {
   "cell_type": "markdown",
   "id": "2487088a-8ffc-456b-b958-99fd9ba0c5d1",
   "metadata": {},
   "source": [
    "Concatenate historical data"
   ]
  },
  {
   "cell_type": "code",
   "execution_count": null,
   "id": "f5864791-8c99-483d-bea3-24c9aaba32de",
   "metadata": {},
   "outputs": [],
   "source": [
    "df_updated = pd.concat([df_hist, df], axis=0, ignore_index=True)"
   ]
  },
  {
   "cell_type": "code",
   "execution_count": null,
   "id": "131d0db4-3e7e-4307-980a-887608e1d93a",
   "metadata": {},
   "outputs": [],
   "source": [
    "df_updated['model'] = df_updated['model'].apply(lambda x: x.replace(' ',''))\n",
    "df_updated['model'] = df_updated['model'].apply(lambda x: x.lstrip())\n",
    "df_updated['model'] = df_updated['model'].apply(lambda x: x.rstrip())"
   ]
  },
  {
   "cell_type": "code",
   "execution_count": null,
   "id": "92131168-aaf1-445d-a836-6c04d246027c",
   "metadata": {},
   "outputs": [],
   "source": [
    "# Save file\n",
    "df_updated.to_excel('/Users/mingxu/Traymann/ZOOMLION/统计分析报告/8_印度尼西亚/土方/挖掘机/2022年8-2024年3月印尼挖掘机进口数据_已清理及异常判断.xlsx',sheet_name='Sheet1',index=False)"
   ]
  }
 ],
 "metadata": {
  "kernelspec": {
   "display_name": "Python 3 (ipykernel)",
   "language": "python",
   "name": "python3"
  },
  "language_info": {
   "codemirror_mode": {
    "name": "ipython",
    "version": 3
   },
   "file_extension": ".py",
   "mimetype": "text/x-python",
   "name": "python",
   "nbconvert_exporter": "python",
   "pygments_lexer": "ipython3",
   "version": "3.9.13"
  }
 },
 "nbformat": 4,
 "nbformat_minor": 5
}
